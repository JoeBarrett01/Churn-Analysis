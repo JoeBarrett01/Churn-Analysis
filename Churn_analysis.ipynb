{
  "cells": [
    {
      "cell_type": "markdown",
      "metadata": {
        "id": "view-in-github",
        "colab_type": "text"
      },
      "source": [
        "<a href=\"https://colab.research.google.com/github/JoeBarrett01/Churn-Analysis/blob/main/Churn_analysis.ipynb\" target=\"_parent\"><img src=\"https://colab.research.google.com/assets/colab-badge.svg\" alt=\"Open In Colab\"/></a>"
      ]
    },
    {
      "cell_type": "code",
      "execution_count": 1,
      "metadata": {
        "colab": {
          "base_uri": "https://localhost:8080/"
        },
        "id": "rJZ7zSSosm5d",
        "outputId": "9c8f9dd0-6845-410c-9b87-a877f37b1a1b"
      },
      "outputs": [
        {
          "output_type": "stream",
          "name": "stdout",
          "text": [
            "Mounted at /content/drive/\n"
          ]
        }
      ],
      "source": [
        "import platform\n",
        "import pandas as pd\n",
        "import sklearn\n",
        "import numpy as np\n",
        "import graphviz\n",
        "import matplotlib\n",
        "import matplotlib.pyplot as plt\n",
        "from google.colab import drive\n",
        "drive.mount('/content/drive/')\n",
        "\n",
        "%matplotlib inline"
      ]
    },
    {
      "cell_type": "code",
      "execution_count": 2,
      "metadata": {
        "id": "sRQsYyAUsm5h"
      },
      "outputs": [],
      "source": [
        "df = pd.read_csv('drive/MyDrive/final_dataset.csv')\n",
        "df.shape\n",
        "\n",
        "del df['ORDERED_DATE']\n",
        "del df['CREATION_DATE']\n",
        "del df['ENROLLMENT_DATE']\n",
        "del df['PAYING_CUSTOMER_DATE']\n",
        "del df['TERMINATION_DATE']\n",
        "del df['IS_DATE']\n",
        "del df['CASE_STUDY_LAST_UPDATE_DATE']\n",
        "del df['ELEVATOR_PITCH_LAST_UPDATE_DATE']\n",
        "del df['PLAN_END_DATE']\n",
        "del df['Unnamed: 0']\n",
        "del df['TERMINATION_REASON']\n",
        "del df['MAIL_SENT_DATE']\n",
        "del df['REF_ARCH_LAST_UPDATE_DATE']\n",
        "del df['USAGE_COMPLETION_DATE']\n",
        "del df['VECTOR_LOGO_LAST_UPDATE_DATE']\n",
        "del df['YEAR_FOUNDED']\n",
        "del df['NS_INTERNAL_ID']\n",
        "del df['FUNDRAISING_STAGE']\n",
        "del df['IS_SOLUTION']\n"
      ]
    },
    {
      "cell_type": "code",
      "execution_count": 3,
      "metadata": {
        "colab": {
          "base_uri": "https://localhost:8080/",
          "height": 421
        },
        "id": "H5JljiBSsm5i",
        "outputId": "8a3ebc78-0d1f-410b-8b06-7b5a79259a42"
      },
      "outputs": [
        {
          "output_type": "execute_result",
          "data": {
            "text/plain": [
              "                    COUNTRY EXTENSION  CREDIT_AMOUNT_TOTAL  STARTUP_ID  \\\n",
              "0                    Canada         N                 0.00        1001   \n",
              "1            United Kingdom         Y              1130.99         227   \n",
              "2  United States of America         N                 0.00         228   \n",
              "3  United States of America         N                 0.00         229   \n",
              "4  United States of America         Y              2000.00         230   \n",
              "\n",
              "  PAYING_CUSTOMER SUBSCRIPTION_LINE_STATUS  MIGRATION_STAGE  PRODUCTION_STAGE  \\\n",
              "0               N                  EXPIRED              0.0               1.0   \n",
              "1               Y                  EXPIRED              0.0               2.0   \n",
              "2               N                  EXPIRED              0.0               0.0   \n",
              "3               N                  EXPIRED              0.0               1.0   \n",
              "4               N                  EXPIRED              9.0               1.0   \n",
              "\n",
              "  CHURN  CASE_STUDY  ... MENTOR_BENEFIT  MIGRATION_BENEFIT ORDER_ID  \\\n",
              "0    NO  Incomplete  ...              N                  N    12214   \n",
              "1    NO  Incomplete  ...              N                  N    12202   \n",
              "2    NO  Incomplete  ...              N                  N    12228   \n",
              "3    NO  Incomplete  ...              N                  N    12203   \n",
              "4   YES  Incomplete  ...              N                  N    12212   \n",
              "\n",
              "  PLAN_STATUS PRIMARY_JOB_TITLE     SKU            TECHNOLOGY1  \\\n",
              "0      Active           Unknown  B90994                Unknown   \n",
              "1      Active        IT Manager  B90994                  Cloud   \n",
              "2      Active               CEO  B90994  Enterprise Management   \n",
              "3      Active           Unknown  B90994                Unknown   \n",
              "4      Active           Unknown  B90994                Unknown   \n",
              "\n",
              "            TECHNOLOGY2                   TECHNOLOGY3 TOT_USED_AMOUNT_CD  \n",
              "0               Unknown                       Unknown               0.00  \n",
              "1               Unknown                       Unknown              60.53  \n",
              "2  Financial Management  Project Portfolio Management              27.24  \n",
              "3               Unknown                       Unknown             141.52  \n",
              "4               Unknown                       Unknown               0.00  \n",
              "\n",
              "[5 rows x 42 columns]"
            ],
            "text/html": [
              "\n",
              "  <div id=\"df-a8810300-7550-4f22-8228-68c3858d0405\">\n",
              "    <div class=\"colab-df-container\">\n",
              "      <div>\n",
              "<style scoped>\n",
              "    .dataframe tbody tr th:only-of-type {\n",
              "        vertical-align: middle;\n",
              "    }\n",
              "\n",
              "    .dataframe tbody tr th {\n",
              "        vertical-align: top;\n",
              "    }\n",
              "\n",
              "    .dataframe thead th {\n",
              "        text-align: right;\n",
              "    }\n",
              "</style>\n",
              "<table border=\"1\" class=\"dataframe\">\n",
              "  <thead>\n",
              "    <tr style=\"text-align: right;\">\n",
              "      <th></th>\n",
              "      <th>COUNTRY</th>\n",
              "      <th>EXTENSION</th>\n",
              "      <th>CREDIT_AMOUNT_TOTAL</th>\n",
              "      <th>STARTUP_ID</th>\n",
              "      <th>PAYING_CUSTOMER</th>\n",
              "      <th>SUBSCRIPTION_LINE_STATUS</th>\n",
              "      <th>MIGRATION_STAGE</th>\n",
              "      <th>PRODUCTION_STAGE</th>\n",
              "      <th>CHURN</th>\n",
              "      <th>CASE_STUDY</th>\n",
              "      <th>...</th>\n",
              "      <th>MENTOR_BENEFIT</th>\n",
              "      <th>MIGRATION_BENEFIT</th>\n",
              "      <th>ORDER_ID</th>\n",
              "      <th>PLAN_STATUS</th>\n",
              "      <th>PRIMARY_JOB_TITLE</th>\n",
              "      <th>SKU</th>\n",
              "      <th>TECHNOLOGY1</th>\n",
              "      <th>TECHNOLOGY2</th>\n",
              "      <th>TECHNOLOGY3</th>\n",
              "      <th>TOT_USED_AMOUNT_CD</th>\n",
              "    </tr>\n",
              "  </thead>\n",
              "  <tbody>\n",
              "    <tr>\n",
              "      <th>0</th>\n",
              "      <td>Canada</td>\n",
              "      <td>N</td>\n",
              "      <td>0.00</td>\n",
              "      <td>1001</td>\n",
              "      <td>N</td>\n",
              "      <td>EXPIRED</td>\n",
              "      <td>0.0</td>\n",
              "      <td>1.0</td>\n",
              "      <td>NO</td>\n",
              "      <td>Incomplete</td>\n",
              "      <td>...</td>\n",
              "      <td>N</td>\n",
              "      <td>N</td>\n",
              "      <td>12214</td>\n",
              "      <td>Active</td>\n",
              "      <td>Unknown</td>\n",
              "      <td>B90994</td>\n",
              "      <td>Unknown</td>\n",
              "      <td>Unknown</td>\n",
              "      <td>Unknown</td>\n",
              "      <td>0.00</td>\n",
              "    </tr>\n",
              "    <tr>\n",
              "      <th>1</th>\n",
              "      <td>United Kingdom</td>\n",
              "      <td>Y</td>\n",
              "      <td>1130.99</td>\n",
              "      <td>227</td>\n",
              "      <td>Y</td>\n",
              "      <td>EXPIRED</td>\n",
              "      <td>0.0</td>\n",
              "      <td>2.0</td>\n",
              "      <td>NO</td>\n",
              "      <td>Incomplete</td>\n",
              "      <td>...</td>\n",
              "      <td>N</td>\n",
              "      <td>N</td>\n",
              "      <td>12202</td>\n",
              "      <td>Active</td>\n",
              "      <td>IT Manager</td>\n",
              "      <td>B90994</td>\n",
              "      <td>Cloud</td>\n",
              "      <td>Unknown</td>\n",
              "      <td>Unknown</td>\n",
              "      <td>60.53</td>\n",
              "    </tr>\n",
              "    <tr>\n",
              "      <th>2</th>\n",
              "      <td>United States of America</td>\n",
              "      <td>N</td>\n",
              "      <td>0.00</td>\n",
              "      <td>228</td>\n",
              "      <td>N</td>\n",
              "      <td>EXPIRED</td>\n",
              "      <td>0.0</td>\n",
              "      <td>0.0</td>\n",
              "      <td>NO</td>\n",
              "      <td>Incomplete</td>\n",
              "      <td>...</td>\n",
              "      <td>N</td>\n",
              "      <td>N</td>\n",
              "      <td>12228</td>\n",
              "      <td>Active</td>\n",
              "      <td>CEO</td>\n",
              "      <td>B90994</td>\n",
              "      <td>Enterprise Management</td>\n",
              "      <td>Financial Management</td>\n",
              "      <td>Project Portfolio Management</td>\n",
              "      <td>27.24</td>\n",
              "    </tr>\n",
              "    <tr>\n",
              "      <th>3</th>\n",
              "      <td>United States of America</td>\n",
              "      <td>N</td>\n",
              "      <td>0.00</td>\n",
              "      <td>229</td>\n",
              "      <td>N</td>\n",
              "      <td>EXPIRED</td>\n",
              "      <td>0.0</td>\n",
              "      <td>1.0</td>\n",
              "      <td>NO</td>\n",
              "      <td>Incomplete</td>\n",
              "      <td>...</td>\n",
              "      <td>N</td>\n",
              "      <td>N</td>\n",
              "      <td>12203</td>\n",
              "      <td>Active</td>\n",
              "      <td>Unknown</td>\n",
              "      <td>B90994</td>\n",
              "      <td>Unknown</td>\n",
              "      <td>Unknown</td>\n",
              "      <td>Unknown</td>\n",
              "      <td>141.52</td>\n",
              "    </tr>\n",
              "    <tr>\n",
              "      <th>4</th>\n",
              "      <td>United States of America</td>\n",
              "      <td>Y</td>\n",
              "      <td>2000.00</td>\n",
              "      <td>230</td>\n",
              "      <td>N</td>\n",
              "      <td>EXPIRED</td>\n",
              "      <td>9.0</td>\n",
              "      <td>1.0</td>\n",
              "      <td>YES</td>\n",
              "      <td>Incomplete</td>\n",
              "      <td>...</td>\n",
              "      <td>N</td>\n",
              "      <td>N</td>\n",
              "      <td>12212</td>\n",
              "      <td>Active</td>\n",
              "      <td>Unknown</td>\n",
              "      <td>B90994</td>\n",
              "      <td>Unknown</td>\n",
              "      <td>Unknown</td>\n",
              "      <td>Unknown</td>\n",
              "      <td>0.00</td>\n",
              "    </tr>\n",
              "  </tbody>\n",
              "</table>\n",
              "<p>5 rows × 42 columns</p>\n",
              "</div>\n",
              "      <button class=\"colab-df-convert\" onclick=\"convertToInteractive('df-a8810300-7550-4f22-8228-68c3858d0405')\"\n",
              "              title=\"Convert this dataframe to an interactive table.\"\n",
              "              style=\"display:none;\">\n",
              "        \n",
              "  <svg xmlns=\"http://www.w3.org/2000/svg\" height=\"24px\"viewBox=\"0 0 24 24\"\n",
              "       width=\"24px\">\n",
              "    <path d=\"M0 0h24v24H0V0z\" fill=\"none\"/>\n",
              "    <path d=\"M18.56 5.44l.94 2.06.94-2.06 2.06-.94-2.06-.94-.94-2.06-.94 2.06-2.06.94zm-11 1L8.5 8.5l.94-2.06 2.06-.94-2.06-.94L8.5 2.5l-.94 2.06-2.06.94zm10 10l.94 2.06.94-2.06 2.06-.94-2.06-.94-.94-2.06-.94 2.06-2.06.94z\"/><path d=\"M17.41 7.96l-1.37-1.37c-.4-.4-.92-.59-1.43-.59-.52 0-1.04.2-1.43.59L10.3 9.45l-7.72 7.72c-.78.78-.78 2.05 0 2.83L4 21.41c.39.39.9.59 1.41.59.51 0 1.02-.2 1.41-.59l7.78-7.78 2.81-2.81c.8-.78.8-2.07 0-2.86zM5.41 20L4 18.59l7.72-7.72 1.47 1.35L5.41 20z\"/>\n",
              "  </svg>\n",
              "      </button>\n",
              "      \n",
              "  <style>\n",
              "    .colab-df-container {\n",
              "      display:flex;\n",
              "      flex-wrap:wrap;\n",
              "      gap: 12px;\n",
              "    }\n",
              "\n",
              "    .colab-df-convert {\n",
              "      background-color: #E8F0FE;\n",
              "      border: none;\n",
              "      border-radius: 50%;\n",
              "      cursor: pointer;\n",
              "      display: none;\n",
              "      fill: #1967D2;\n",
              "      height: 32px;\n",
              "      padding: 0 0 0 0;\n",
              "      width: 32px;\n",
              "    }\n",
              "\n",
              "    .colab-df-convert:hover {\n",
              "      background-color: #E2EBFA;\n",
              "      box-shadow: 0px 1px 2px rgba(60, 64, 67, 0.3), 0px 1px 3px 1px rgba(60, 64, 67, 0.15);\n",
              "      fill: #174EA6;\n",
              "    }\n",
              "\n",
              "    [theme=dark] .colab-df-convert {\n",
              "      background-color: #3B4455;\n",
              "      fill: #D2E3FC;\n",
              "    }\n",
              "\n",
              "    [theme=dark] .colab-df-convert:hover {\n",
              "      background-color: #434B5C;\n",
              "      box-shadow: 0px 1px 3px 1px rgba(0, 0, 0, 0.15);\n",
              "      filter: drop-shadow(0px 1px 2px rgba(0, 0, 0, 0.3));\n",
              "      fill: #FFFFFF;\n",
              "    }\n",
              "  </style>\n",
              "\n",
              "      <script>\n",
              "        const buttonEl =\n",
              "          document.querySelector('#df-a8810300-7550-4f22-8228-68c3858d0405 button.colab-df-convert');\n",
              "        buttonEl.style.display =\n",
              "          google.colab.kernel.accessAllowed ? 'block' : 'none';\n",
              "\n",
              "        async function convertToInteractive(key) {\n",
              "          const element = document.querySelector('#df-a8810300-7550-4f22-8228-68c3858d0405');\n",
              "          const dataTable =\n",
              "            await google.colab.kernel.invokeFunction('convertToInteractive',\n",
              "                                                     [key], {});\n",
              "          if (!dataTable) return;\n",
              "\n",
              "          const docLinkHtml = 'Like what you see? Visit the ' +\n",
              "            '<a target=\"_blank\" href=https://colab.research.google.com/notebooks/data_table.ipynb>data table notebook</a>'\n",
              "            + ' to learn more about interactive tables.';\n",
              "          element.innerHTML = '';\n",
              "          dataTable['output_type'] = 'display_data';\n",
              "          await google.colab.output.renderOutput(dataTable, element);\n",
              "          const docLink = document.createElement('div');\n",
              "          docLink.innerHTML = docLinkHtml;\n",
              "          element.appendChild(docLink);\n",
              "        }\n",
              "      </script>\n",
              "    </div>\n",
              "  </div>\n",
              "  "
            ]
          },
          "metadata": {},
          "execution_count": 3
        }
      ],
      "source": [
        "df.head()"
      ]
    },
    {
      "cell_type": "code",
      "execution_count": 4,
      "metadata": {
        "colab": {
          "base_uri": "https://localhost:8080/"
        },
        "id": "aooU02LJsm5i",
        "outputId": "c4511ca5-f58d-4125-81a3-5c5a4765a036"
      },
      "outputs": [
        {
          "output_type": "execute_result",
          "data": {
            "text/plain": [
              "(3236, 42)"
            ]
          },
          "metadata": {},
          "execution_count": 4
        }
      ],
      "source": [
        "df = df.dropna(how=\"all\")  # remove samples with all missing values\n",
        "df.shape"
      ]
    },
    {
      "cell_type": "code",
      "execution_count": 5,
      "metadata": {
        "colab": {
          "base_uri": "https://localhost:8080/"
        },
        "id": "B4DwDo-asm5j",
        "outputId": "2b25dd6a-941e-4472-cb1d-38fc193795f0"
      },
      "outputs": [
        {
          "output_type": "execute_result",
          "data": {
            "text/plain": [
              "(3236, 42)"
            ]
          },
          "metadata": {},
          "execution_count": 5
        }
      ],
      "source": [
        "df = df[~df.duplicated()] # remove duplicates\n",
        "df.shape"
      ]
    },
    {
      "cell_type": "code",
      "execution_count": 6,
      "metadata": {
        "colab": {
          "base_uri": "https://localhost:8080/"
        },
        "id": "3nyEd83Lsm5j",
        "outputId": "fda23ba0-d1ae-47ce-c24d-1d9d5a8c4a49"
      },
      "outputs": [
        {
          "output_type": "execute_result",
          "data": {
            "text/plain": [
              "(3236, 42)"
            ]
          },
          "metadata": {},
          "execution_count": 6
        }
      ],
      "source": [
        "total_charges_filter = df.TOT_USED_AMOUNT_CD == \" \"\n",
        "df = df[~total_charges_filter]\n",
        "df.shape"
      ]
    },
    {
      "cell_type": "code",
      "execution_count": 7,
      "metadata": {
        "colab": {
          "base_uri": "https://localhost:8080/"
        },
        "id": "SJlgNZ6dsm5k",
        "outputId": "06185d7b-54c1-4ec6-c868-e042275fec79"
      },
      "outputs": [
        {
          "output_type": "stream",
          "name": "stderr",
          "text": [
            "/usr/local/lib/python3.7/dist-packages/ipykernel_launcher.py:1: UserWarning: Pandas doesn't allow columns to be created via a new attribute name - see https://pandas.pydata.org/pandas-docs/stable/indexing.html#attribute-access\n",
            "  \"\"\"Entry point for launching an IPython kernel.\n"
          ]
        }
      ],
      "source": [
        "df.TotalCharges = pd.to_numeric(df.TOT_USED_AMOUNT_CD)"
      ]
    },
    {
      "cell_type": "code",
      "execution_count": 8,
      "metadata": {
        "colab": {
          "base_uri": "https://localhost:8080/"
        },
        "id": "A3jWmutYsm5l",
        "outputId": "111dbf97-1215-4412-eea2-c4514724f610"
      },
      "outputs": [
        {
          "output_type": "execute_result",
          "data": {
            "text/plain": [
              "3258.03370828183"
            ]
          },
          "metadata": {},
          "execution_count": 8
        }
      ],
      "source": [
        "from numpy.ma.core import mean\n",
        "df.describe(include='all')\n",
        "mean(df['TOT_USED_AMOUNT_CD'])"
      ]
    },
    {
      "cell_type": "code",
      "execution_count": 9,
      "metadata": {
        "id": "koHH66Vcsm5m"
      },
      "outputs": [],
      "source": [
        "categorical_features = [ \n",
        "                           'CLOUD',\n",
        "                           'EXTENSION', \n",
        "                           'PAYING_CUSTOMER', \n",
        "                           'CASE_STUDY',\n",
        "                          'REGION',\n",
        "                        'MIGRATION_STAGE',\n",
        "                        'PRODUCTION_STAGE'\n",
        "                        ]\n",
        "numerical_features = ['CREDIT_AMOUNT_TOTAL', \n",
        "                         'TOT_USED_AMOUNT_CD',\n",
        "                         'CLOUD_USAGE',\n",
        "                      'CREDIT_AMOUNT']\n",
        "target = \"CHURN\""
      ]
    },
    {
      "cell_type": "markdown",
      "source": [
        "Maybe some other categorical features?\n",
        "\n",
        "'ELEVATOR_PITCH',\n",
        "                        'COUNTRY',\n",
        "                        'PRODUCTION_STAGE',\n",
        "                        'MIGRATION_STAGE',\n",
        "                        'INTEGRATION_STRATEGY',\n",
        "                        'IS_INTEGRATION_FLAG',\n",
        "                        'IS_SOLUTION_FLAG',\n",
        "                        'MAIL_SENT',\n",
        "                        'MC_COMPLETE_STATUS',\n",
        "                        'PK_USAGE',\n",
        "                        'PROFILE_CREATED',\n",
        "                        'PROMOTION_KIT_FLAG',\n",
        "                        'REF_ARCH',\n",
        "                        'REGION',\n",
        "                        'VECTOR_LOGO',\n",
        "                        'CREDIT_DURATION',\n",
        "                        'FUNDRAISING_FLAG',\n",
        "                        'INDUSTRY1',\n",
        "                        'MENTOR_BENEFIT',\n",
        "                        'MIGRATION_BENEFIT',\n",
        "                        'PRIMARY_JOB_TITLE',\n",
        "                        'AGE_DAYS'\n",
        "\n",
        "\n"
      ],
      "metadata": {
        "id": "CkqbxqWCGgH6"
      }
    },
    {
      "cell_type": "code",
      "execution_count": 10,
      "metadata": {
        "colab": {
          "base_uri": "https://localhost:8080/",
          "height": 300
        },
        "id": "Pbu2x15Wsm5n",
        "outputId": "590981ab-bd6c-4beb-b1cc-bb494d943db2"
      },
      "outputs": [
        {
          "output_type": "execute_result",
          "data": {
            "text/plain": [
              "       CREDIT_AMOUNT_TOTAL  TOT_USED_AMOUNT_CD   CLOUD_USAGE  CREDIT_AMOUNT\n",
              "count          3236.000000        3.236000e+03  3.236000e+03    3236.000000\n",
              "mean           2525.612382        3.258034e+03  3.258056e+03    2836.757111\n",
              "std           12172.967366        3.799894e+04  3.799894e+04   12112.222418\n",
              "min               0.000000        0.000000e+00  0.000000e+00     500.000000\n",
              "25%               0.000000        0.000000e+00  0.000000e+00     500.000000\n",
              "50%               0.000000        0.000000e+00  0.000000e+00     500.000000\n",
              "75%            1500.000000        5.099200e+02  5.099198e+02    1500.000000\n",
              "max          326500.000000        1.950636e+06  1.950636e+06  326500.000000"
            ],
            "text/html": [
              "\n",
              "  <div id=\"df-e11e7a8c-ca64-4e46-bd2b-854c1bad4460\">\n",
              "    <div class=\"colab-df-container\">\n",
              "      <div>\n",
              "<style scoped>\n",
              "    .dataframe tbody tr th:only-of-type {\n",
              "        vertical-align: middle;\n",
              "    }\n",
              "\n",
              "    .dataframe tbody tr th {\n",
              "        vertical-align: top;\n",
              "    }\n",
              "\n",
              "    .dataframe thead th {\n",
              "        text-align: right;\n",
              "    }\n",
              "</style>\n",
              "<table border=\"1\" class=\"dataframe\">\n",
              "  <thead>\n",
              "    <tr style=\"text-align: right;\">\n",
              "      <th></th>\n",
              "      <th>CREDIT_AMOUNT_TOTAL</th>\n",
              "      <th>TOT_USED_AMOUNT_CD</th>\n",
              "      <th>CLOUD_USAGE</th>\n",
              "      <th>CREDIT_AMOUNT</th>\n",
              "    </tr>\n",
              "  </thead>\n",
              "  <tbody>\n",
              "    <tr>\n",
              "      <th>count</th>\n",
              "      <td>3236.000000</td>\n",
              "      <td>3.236000e+03</td>\n",
              "      <td>3.236000e+03</td>\n",
              "      <td>3236.000000</td>\n",
              "    </tr>\n",
              "    <tr>\n",
              "      <th>mean</th>\n",
              "      <td>2525.612382</td>\n",
              "      <td>3.258034e+03</td>\n",
              "      <td>3.258056e+03</td>\n",
              "      <td>2836.757111</td>\n",
              "    </tr>\n",
              "    <tr>\n",
              "      <th>std</th>\n",
              "      <td>12172.967366</td>\n",
              "      <td>3.799894e+04</td>\n",
              "      <td>3.799894e+04</td>\n",
              "      <td>12112.222418</td>\n",
              "    </tr>\n",
              "    <tr>\n",
              "      <th>min</th>\n",
              "      <td>0.000000</td>\n",
              "      <td>0.000000e+00</td>\n",
              "      <td>0.000000e+00</td>\n",
              "      <td>500.000000</td>\n",
              "    </tr>\n",
              "    <tr>\n",
              "      <th>25%</th>\n",
              "      <td>0.000000</td>\n",
              "      <td>0.000000e+00</td>\n",
              "      <td>0.000000e+00</td>\n",
              "      <td>500.000000</td>\n",
              "    </tr>\n",
              "    <tr>\n",
              "      <th>50%</th>\n",
              "      <td>0.000000</td>\n",
              "      <td>0.000000e+00</td>\n",
              "      <td>0.000000e+00</td>\n",
              "      <td>500.000000</td>\n",
              "    </tr>\n",
              "    <tr>\n",
              "      <th>75%</th>\n",
              "      <td>1500.000000</td>\n",
              "      <td>5.099200e+02</td>\n",
              "      <td>5.099198e+02</td>\n",
              "      <td>1500.000000</td>\n",
              "    </tr>\n",
              "    <tr>\n",
              "      <th>max</th>\n",
              "      <td>326500.000000</td>\n",
              "      <td>1.950636e+06</td>\n",
              "      <td>1.950636e+06</td>\n",
              "      <td>326500.000000</td>\n",
              "    </tr>\n",
              "  </tbody>\n",
              "</table>\n",
              "</div>\n",
              "      <button class=\"colab-df-convert\" onclick=\"convertToInteractive('df-e11e7a8c-ca64-4e46-bd2b-854c1bad4460')\"\n",
              "              title=\"Convert this dataframe to an interactive table.\"\n",
              "              style=\"display:none;\">\n",
              "        \n",
              "  <svg xmlns=\"http://www.w3.org/2000/svg\" height=\"24px\"viewBox=\"0 0 24 24\"\n",
              "       width=\"24px\">\n",
              "    <path d=\"M0 0h24v24H0V0z\" fill=\"none\"/>\n",
              "    <path d=\"M18.56 5.44l.94 2.06.94-2.06 2.06-.94-2.06-.94-.94-2.06-.94 2.06-2.06.94zm-11 1L8.5 8.5l.94-2.06 2.06-.94-2.06-.94L8.5 2.5l-.94 2.06-2.06.94zm10 10l.94 2.06.94-2.06 2.06-.94-2.06-.94-.94-2.06-.94 2.06-2.06.94z\"/><path d=\"M17.41 7.96l-1.37-1.37c-.4-.4-.92-.59-1.43-.59-.52 0-1.04.2-1.43.59L10.3 9.45l-7.72 7.72c-.78.78-.78 2.05 0 2.83L4 21.41c.39.39.9.59 1.41.59.51 0 1.02-.2 1.41-.59l7.78-7.78 2.81-2.81c.8-.78.8-2.07 0-2.86zM5.41 20L4 18.59l7.72-7.72 1.47 1.35L5.41 20z\"/>\n",
              "  </svg>\n",
              "      </button>\n",
              "      \n",
              "  <style>\n",
              "    .colab-df-container {\n",
              "      display:flex;\n",
              "      flex-wrap:wrap;\n",
              "      gap: 12px;\n",
              "    }\n",
              "\n",
              "    .colab-df-convert {\n",
              "      background-color: #E8F0FE;\n",
              "      border: none;\n",
              "      border-radius: 50%;\n",
              "      cursor: pointer;\n",
              "      display: none;\n",
              "      fill: #1967D2;\n",
              "      height: 32px;\n",
              "      padding: 0 0 0 0;\n",
              "      width: 32px;\n",
              "    }\n",
              "\n",
              "    .colab-df-convert:hover {\n",
              "      background-color: #E2EBFA;\n",
              "      box-shadow: 0px 1px 2px rgba(60, 64, 67, 0.3), 0px 1px 3px 1px rgba(60, 64, 67, 0.15);\n",
              "      fill: #174EA6;\n",
              "    }\n",
              "\n",
              "    [theme=dark] .colab-df-convert {\n",
              "      background-color: #3B4455;\n",
              "      fill: #D2E3FC;\n",
              "    }\n",
              "\n",
              "    [theme=dark] .colab-df-convert:hover {\n",
              "      background-color: #434B5C;\n",
              "      box-shadow: 0px 1px 3px 1px rgba(0, 0, 0, 0.15);\n",
              "      filter: drop-shadow(0px 1px 2px rgba(0, 0, 0, 0.3));\n",
              "      fill: #FFFFFF;\n",
              "    }\n",
              "  </style>\n",
              "\n",
              "      <script>\n",
              "        const buttonEl =\n",
              "          document.querySelector('#df-e11e7a8c-ca64-4e46-bd2b-854c1bad4460 button.colab-df-convert');\n",
              "        buttonEl.style.display =\n",
              "          google.colab.kernel.accessAllowed ? 'block' : 'none';\n",
              "\n",
              "        async function convertToInteractive(key) {\n",
              "          const element = document.querySelector('#df-e11e7a8c-ca64-4e46-bd2b-854c1bad4460');\n",
              "          const dataTable =\n",
              "            await google.colab.kernel.invokeFunction('convertToInteractive',\n",
              "                                                     [key], {});\n",
              "          if (!dataTable) return;\n",
              "\n",
              "          const docLinkHtml = 'Like what you see? Visit the ' +\n",
              "            '<a target=\"_blank\" href=https://colab.research.google.com/notebooks/data_table.ipynb>data table notebook</a>'\n",
              "            + ' to learn more about interactive tables.';\n",
              "          element.innerHTML = '';\n",
              "          dataTable['output_type'] = 'display_data';\n",
              "          await google.colab.output.renderOutput(dataTable, element);\n",
              "          const docLink = document.createElement('div');\n",
              "          docLink.innerHTML = docLinkHtml;\n",
              "          element.appendChild(docLink);\n",
              "        }\n",
              "      </script>\n",
              "    </div>\n",
              "  </div>\n",
              "  "
            ]
          },
          "metadata": {},
          "execution_count": 10
        }
      ],
      "source": [
        "df[numerical_features].describe()"
      ]
    },
    {
      "cell_type": "code",
      "execution_count": 11,
      "metadata": {
        "colab": {
          "base_uri": "https://localhost:8080/",
          "height": 708
        },
        "id": "ytlfecCSsm5o",
        "outputId": "3bd0fe96-acce-4547-c993-e26e321bf3f1"
      },
      "outputs": [
        {
          "output_type": "execute_result",
          "data": {
            "text/plain": [
              "array([[<matplotlib.axes._subplots.AxesSubplot object at 0x7f24b07c2950>,\n",
              "        <matplotlib.axes._subplots.AxesSubplot object at 0x7f24b079ae90>],\n",
              "       [<matplotlib.axes._subplots.AxesSubplot object at 0x7f24b06e04d0>,\n",
              "        <matplotlib.axes._subplots.AxesSubplot object at 0x7f24b0715ad0>]],\n",
              "      dtype=object)"
            ]
          },
          "metadata": {},
          "execution_count": 11
        },
        {
          "output_type": "display_data",
          "data": {
            "text/plain": [
              "<Figure size 1008x720 with 4 Axes>"
            ],
            "image/png": "[encoded data removed]"
          },
          "metadata": {
            "needs_background": "light"
          }
        }
      ],
      "source": [
        "df[numerical_features].hist(bins=2, figsize=(14, 10))"
      ]
    },
    {
      "cell_type": "code",
      "execution_count": 12,
      "metadata": {
        "colab": {
          "base_uri": "https://localhost:8080/",
          "height": 599
        },
        "id": "O756cU42sm5p",
        "outputId": "33705692-ae4e-4759-8ced-48f0812c5b43"
      },
      "outputs": [
        {
          "output_type": "execute_result",
          "data": {
            "text/plain": [
              "array([<matplotlib.axes._subplots.AxesSubplot object at 0x7f24b00e9610>,\n",
              "       <matplotlib.axes._subplots.AxesSubplot object at 0x7f24b0109f50>,\n",
              "       <matplotlib.axes._subplots.AxesSubplot object at 0x7f24b00ca550>,\n",
              "       <matplotlib.axes._subplots.AxesSubplot object at 0x7f24b0081b10>],\n",
              "      dtype=object)"
            ]
          },
          "metadata": {},
          "execution_count": 12
        },
        {
          "output_type": "display_data",
          "data": {
            "text/plain": [
              "<Figure size 1440x576 with 4 Axes>"
            ],
            "image/png": "[encoded data removed]"
          },
          "metadata": {
            "needs_background": "light"
          }
        }
      ],
      "source": [
        "fig, ax = plt.subplots(1, 4, figsize=(20, 8))\n",
        "df[df.CHURN == \"NO\"][numerical_features].hist(bins=30, color=\"blue\", alpha=0.5, ax=ax)\n",
        "df[df.CHURN == \"YES\"][numerical_features].hist(bins=30, color=\"red\", alpha=0.5, ax=ax)"
      ]
    },
    {
      "cell_type": "code",
      "execution_count": 14,
      "metadata": {
        "colab": {
          "base_uri": "https://localhost:8080/",
          "height": 1000
        },
        "id": "M0-drTRCsm5q",
        "outputId": "3687ab11-b60c-4bd2-d3e1-4e5f54572b0c"
      },
      "outputs": [
        {
          "output_type": "display_data",
          "data": {
            "text/plain": [
              "<Figure size 1296x1296 with 8 Axes>"
            ],
            "image/png": "[encoded data removed]"
          },
          "metadata": {
            "needs_background": "light"
          }
        }
      ],
      "source": [
        "ROWS, COLS = 2, 4\n",
        "fig, ax = plt.subplots(ROWS, COLS, figsize=(18, 18))\n",
        "row, col = 0, 0\n",
        "for i, categorical_feature in enumerate(categorical_features):\n",
        "    if col == COLS - 1:\n",
        "        row += 1\n",
        "    col = i % COLS\n",
        "    df[categorical_feature].value_counts().plot(kind='bar', ax=ax[row, col]).set_title(categorical_feature)"
      ]
    },
    {
      "cell_type": "code",
      "execution_count": 15,
      "metadata": {
        "colab": {
          "base_uri": "https://localhost:8080/",
          "height": 637
        },
        "id": "liv3QRhMsm5r",
        "outputId": "ee8e0d48-3286-4173-8b0d-b40c5c85ca40"
      },
      "outputs": [
        {
          "output_type": "error",
          "ename": "IndexError",
          "evalue": "ignored",
          "traceback": [
            "\u001b[0;31m---------------------------------------------------------------------------\u001b[0m",
            "\u001b[0;31mIndexError\u001b[0m                                Traceback (most recent call last)",
            "\u001b[0;32m<ipython-input-15-f09766aeada6>\u001b[0m in \u001b[0;36m<module>\u001b[0;34m\u001b[0m\n\u001b[1;32m      1\u001b[0m \u001b[0mfeature\u001b[0m \u001b[0;34m=\u001b[0m \u001b[0;34m'CREDIT_AMOUNT_TOTAL'\u001b[0m\u001b[0;34m\u001b[0m\u001b[0;34m\u001b[0m\u001b[0m\n\u001b[1;32m      2\u001b[0m \u001b[0mfig\u001b[0m\u001b[0;34m,\u001b[0m \u001b[0max\u001b[0m \u001b[0;34m=\u001b[0m \u001b[0mplt\u001b[0m\u001b[0;34m.\u001b[0m\u001b[0msubplots\u001b[0m\u001b[0;34m(\u001b[0m\u001b[0;36m1\u001b[0m\u001b[0;34m,\u001b[0m \u001b[0;36m2\u001b[0m\u001b[0;34m,\u001b[0m \u001b[0mfigsize\u001b[0m\u001b[0;34m=\u001b[0m\u001b[0;34m(\u001b[0m\u001b[0;36m14\u001b[0m\u001b[0;34m,\u001b[0m \u001b[0;36m4\u001b[0m\u001b[0;34m)\u001b[0m\u001b[0;34m)\u001b[0m\u001b[0;34m\u001b[0m\u001b[0;34m\u001b[0m\u001b[0m\n\u001b[0;32m----> 3\u001b[0;31m \u001b[0mdf\u001b[0m\u001b[0;34m[\u001b[0m\u001b[0mdf\u001b[0m\u001b[0;34m.\u001b[0m\u001b[0mCHURN\u001b[0m \u001b[0;34m==\u001b[0m \u001b[0;34m\"No\"\u001b[0m\u001b[0;34m]\u001b[0m\u001b[0;34m[\u001b[0m\u001b[0mfeature\u001b[0m\u001b[0;34m]\u001b[0m\u001b[0;34m.\u001b[0m\u001b[0mvalue_counts\u001b[0m\u001b[0;34m(\u001b[0m\u001b[0;34m)\u001b[0m\u001b[0;34m.\u001b[0m\u001b[0mplot\u001b[0m\u001b[0;34m(\u001b[0m\u001b[0mkind\u001b[0m\u001b[0;34m=\u001b[0m\u001b[0;34m'bar'\u001b[0m\u001b[0;34m,\u001b[0m \u001b[0max\u001b[0m\u001b[0;34m=\u001b[0m\u001b[0max\u001b[0m\u001b[0;34m[\u001b[0m\u001b[0;36m0\u001b[0m\u001b[0;34m]\u001b[0m\u001b[0;34m)\u001b[0m\u001b[0;34m.\u001b[0m\u001b[0mset_title\u001b[0m\u001b[0;34m(\u001b[0m\u001b[0;34m'not churned'\u001b[0m\u001b[0;34m)\u001b[0m\u001b[0;34m\u001b[0m\u001b[0;34m\u001b[0m\u001b[0m\n\u001b[0m\u001b[1;32m      4\u001b[0m \u001b[0mdf\u001b[0m\u001b[0;34m[\u001b[0m\u001b[0mdf\u001b[0m\u001b[0;34m.\u001b[0m\u001b[0mCHURN\u001b[0m \u001b[0;34m==\u001b[0m \u001b[0;34m\"Yes\"\u001b[0m\u001b[0;34m]\u001b[0m\u001b[0;34m[\u001b[0m\u001b[0mfeature\u001b[0m\u001b[0;34m]\u001b[0m\u001b[0;34m.\u001b[0m\u001b[0mvalue_counts\u001b[0m\u001b[0;34m(\u001b[0m\u001b[0;34m)\u001b[0m\u001b[0;34m.\u001b[0m\u001b[0mplot\u001b[0m\u001b[0;34m(\u001b[0m\u001b[0mkind\u001b[0m\u001b[0;34m=\u001b[0m\u001b[0;34m'bar'\u001b[0m\u001b[0;34m,\u001b[0m \u001b[0max\u001b[0m\u001b[0;34m=\u001b[0m\u001b[0max\u001b[0m\u001b[0;34m[\u001b[0m\u001b[0;36m1\u001b[0m\u001b[0;34m]\u001b[0m\u001b[0;34m)\u001b[0m\u001b[0;34m.\u001b[0m\u001b[0mset_title\u001b[0m\u001b[0;34m(\u001b[0m\u001b[0;34m'churned'\u001b[0m\u001b[0;34m)\u001b[0m\u001b[0;34m\u001b[0m\u001b[0;34m\u001b[0m\u001b[0m\n",
            "\u001b[0;32m/usr/local/lib/python3.7/dist-packages/pandas/plotting/_core.py\u001b[0m in \u001b[0;36m__call__\u001b[0;34m(self, *args, **kwargs)\u001b[0m\n\u001b[1;32m    970\u001b[0m                     \u001b[0mdata\u001b[0m\u001b[0;34m.\u001b[0m\u001b[0mcolumns\u001b[0m \u001b[0;34m=\u001b[0m \u001b[0mlabel_name\u001b[0m\u001b[0;34m\u001b[0m\u001b[0;34m\u001b[0m\u001b[0m\n\u001b[1;32m    971\u001b[0m \u001b[0;34m\u001b[0m\u001b[0m\n\u001b[0;32m--> 972\u001b[0;31m         \u001b[0;32mreturn\u001b[0m \u001b[0mplot_backend\u001b[0m\u001b[0;34m.\u001b[0m\u001b[0mplot\u001b[0m\u001b[0;34m(\u001b[0m\u001b[0mdata\u001b[0m\u001b[0;34m,\u001b[0m \u001b[0mkind\u001b[0m\u001b[0;34m=\u001b[0m\u001b[0mkind\u001b[0m\u001b[0;34m,\u001b[0m \u001b[0;34m**\u001b[0m\u001b[0mkwargs\u001b[0m\u001b[0;34m)\u001b[0m\u001b[0;34m\u001b[0m\u001b[0;34m\u001b[0m\u001b[0m\n\u001b[0m\u001b[1;32m    973\u001b[0m \u001b[0;34m\u001b[0m\u001b[0m\n\u001b[1;32m    974\u001b[0m     \u001b[0m__call__\u001b[0m\u001b[0;34m.\u001b[0m\u001b[0m__doc__\u001b[0m \u001b[0;34m=\u001b[0m \u001b[0m__doc__\u001b[0m\u001b[0;34m\u001b[0m\u001b[0;34m\u001b[0m\u001b[0m\n",
            "\u001b[0;32m/usr/local/lib/python3.7/dist-packages/pandas/plotting/_matplotlib/__init__.py\u001b[0m in \u001b[0;36mplot\u001b[0;34m(data, kind, **kwargs)\u001b[0m\n\u001b[1;32m     69\u001b[0m             \u001b[0mkwargs\u001b[0m\u001b[0;34m[\u001b[0m\u001b[0;34m\"ax\"\u001b[0m\u001b[0;34m]\u001b[0m \u001b[0;34m=\u001b[0m \u001b[0mgetattr\u001b[0m\u001b[0;34m(\u001b[0m\u001b[0max\u001b[0m\u001b[0;34m,\u001b[0m \u001b[0;34m\"left_ax\"\u001b[0m\u001b[0;34m,\u001b[0m \u001b[0max\u001b[0m\u001b[0;34m)\u001b[0m\u001b[0;34m\u001b[0m\u001b[0;34m\u001b[0m\u001b[0m\n\u001b[1;32m     70\u001b[0m     \u001b[0mplot_obj\u001b[0m \u001b[0;34m=\u001b[0m \u001b[0mPLOT_CLASSES\u001b[0m\u001b[0;34m[\u001b[0m\u001b[0mkind\u001b[0m\u001b[0;34m]\u001b[0m\u001b[0;34m(\u001b[0m\u001b[0mdata\u001b[0m\u001b[0;34m,\u001b[0m \u001b[0;34m**\u001b[0m\u001b[0mkwargs\u001b[0m\u001b[0;34m)\u001b[0m\u001b[0;34m\u001b[0m\u001b[0;34m\u001b[0m\u001b[0m\n\u001b[0;32m---> 71\u001b[0;31m     \u001b[0mplot_obj\u001b[0m\u001b[0;34m.\u001b[0m\u001b[0mgenerate\u001b[0m\u001b[0;34m(\u001b[0m\u001b[0;34m)\u001b[0m\u001b[0;34m\u001b[0m\u001b[0;34m\u001b[0m\u001b[0m\n\u001b[0m\u001b[1;32m     72\u001b[0m     \u001b[0mplot_obj\u001b[0m\u001b[0;34m.\u001b[0m\u001b[0mdraw\u001b[0m\u001b[0;34m(\u001b[0m\u001b[0;34m)\u001b[0m\u001b[0;34m\u001b[0m\u001b[0;34m\u001b[0m\u001b[0m\n\u001b[1;32m     73\u001b[0m     \u001b[0;32mreturn\u001b[0m \u001b[0mplot_obj\u001b[0m\u001b[0;34m.\u001b[0m\u001b[0mresult\u001b[0m\u001b[0;34m\u001b[0m\u001b[0;34m\u001b[0m\u001b[0m\n",
            "\u001b[0;32m/usr/local/lib/python3.7/dist-packages/pandas/plotting/_matplotlib/core.py\u001b[0m in \u001b[0;36mgenerate\u001b[0;34m(self)\u001b[0m\n\u001b[1;32m    293\u001b[0m         \u001b[0;32mfor\u001b[0m \u001b[0max\u001b[0m \u001b[0;32min\u001b[0m \u001b[0mself\u001b[0m\u001b[0;34m.\u001b[0m\u001b[0maxes\u001b[0m\u001b[0;34m:\u001b[0m\u001b[0;34m\u001b[0m\u001b[0;34m\u001b[0m\u001b[0m\n\u001b[1;32m    294\u001b[0m             \u001b[0mself\u001b[0m\u001b[0;34m.\u001b[0m\u001b[0m_post_plot_logic_common\u001b[0m\u001b[0;34m(\u001b[0m\u001b[0max\u001b[0m\u001b[0;34m,\u001b[0m \u001b[0mself\u001b[0m\u001b[0;34m.\u001b[0m\u001b[0mdata\u001b[0m\u001b[0;34m)\u001b[0m\u001b[0;34m\u001b[0m\u001b[0;34m\u001b[0m\u001b[0m\n\u001b[0;32m--> 295\u001b[0;31m             \u001b[0mself\u001b[0m\u001b[0;34m.\u001b[0m\u001b[0m_post_plot_logic\u001b[0m\u001b[0;34m(\u001b[0m\u001b[0max\u001b[0m\u001b[0;34m,\u001b[0m \u001b[0mself\u001b[0m\u001b[0;34m.\u001b[0m\u001b[0mdata\u001b[0m\u001b[0;34m)\u001b[0m\u001b[0;34m\u001b[0m\u001b[0;34m\u001b[0m\u001b[0m\n\u001b[0m\u001b[1;32m    296\u001b[0m \u001b[0;34m\u001b[0m\u001b[0m\n\u001b[1;32m    297\u001b[0m     \u001b[0;32mdef\u001b[0m \u001b[0m_args_adjust\u001b[0m\u001b[0;34m(\u001b[0m\u001b[0mself\u001b[0m\u001b[0;34m)\u001b[0m\u001b[0;34m:\u001b[0m\u001b[0;34m\u001b[0m\u001b[0;34m\u001b[0m\u001b[0m\n",
            "\u001b[0;32m/usr/local/lib/python3.7/dist-packages/pandas/plotting/_matplotlib/core.py\u001b[0m in \u001b[0;36m_post_plot_logic\u001b[0;34m(self, ax, data)\u001b[0m\n\u001b[1;32m   1526\u001b[0m         \u001b[0mname\u001b[0m \u001b[0;34m=\u001b[0m \u001b[0mself\u001b[0m\u001b[0;34m.\u001b[0m\u001b[0m_get_index_name\u001b[0m\u001b[0;34m(\u001b[0m\u001b[0;34m)\u001b[0m\u001b[0;34m\u001b[0m\u001b[0;34m\u001b[0m\u001b[0m\n\u001b[1;32m   1527\u001b[0m \u001b[0;34m\u001b[0m\u001b[0m\n\u001b[0;32m-> 1528\u001b[0;31m         \u001b[0ms_edge\u001b[0m \u001b[0;34m=\u001b[0m \u001b[0mself\u001b[0m\u001b[0;34m.\u001b[0m\u001b[0max_pos\u001b[0m\u001b[0;34m[\u001b[0m\u001b[0;36m0\u001b[0m\u001b[0;34m]\u001b[0m \u001b[0;34m-\u001b[0m \u001b[0;36m0.25\u001b[0m \u001b[0;34m+\u001b[0m \u001b[0mself\u001b[0m\u001b[0;34m.\u001b[0m\u001b[0mlim_offset\u001b[0m\u001b[0;34m\u001b[0m\u001b[0;34m\u001b[0m\u001b[0m\n\u001b[0m\u001b[1;32m   1529\u001b[0m         \u001b[0me_edge\u001b[0m \u001b[0;34m=\u001b[0m \u001b[0mself\u001b[0m\u001b[0;34m.\u001b[0m\u001b[0max_pos\u001b[0m\u001b[0;34m[\u001b[0m\u001b[0;34m-\u001b[0m\u001b[0;36m1\u001b[0m\u001b[0;34m]\u001b[0m \u001b[0;34m+\u001b[0m \u001b[0;36m0.25\u001b[0m \u001b[0;34m+\u001b[0m \u001b[0mself\u001b[0m\u001b[0;34m.\u001b[0m\u001b[0mbar_width\u001b[0m \u001b[0;34m+\u001b[0m \u001b[0mself\u001b[0m\u001b[0;34m.\u001b[0m\u001b[0mlim_offset\u001b[0m\u001b[0;34m\u001b[0m\u001b[0;34m\u001b[0m\u001b[0m\n\u001b[1;32m   1530\u001b[0m \u001b[0;34m\u001b[0m\u001b[0m\n",
            "\u001b[0;31mIndexError\u001b[0m: index 0 is out of bounds for axis 0 with size 0"
          ]
        },
        {
          "output_type": "display_data",
          "data": {
            "text/plain": [
              "<Figure size 1008x288 with 2 Axes>"
            ],
            "image/png": "[encoded data removed]"
          },
          "metadata": {
            "needs_background": "light"
          }
        }
      ],
      "source": [
        "feature = 'CREDIT_AMOUNT_TOTAL'\n",
        "fig, ax = plt.subplots(1, 2, figsize=(14, 4))\n",
        "df[df.CHURN == \"No\"][feature].value_counts().plot(kind='bar', ax=ax[0]).set_title('not churned')\n",
        "df[df.CHURN == \"Yes\"][feature].value_counts().plot(kind='bar', ax=ax[1]).set_title('churned')"
      ]
    },
    {
      "cell_type": "code",
      "execution_count": 16,
      "metadata": {
        "colab": {
          "base_uri": "https://localhost:8080/",
          "height": 307
        },
        "id": "VaQ-9Vcnsm5s",
        "outputId": "82eec673-9df1-4d7d-d809-f65cb208dc70"
      },
      "outputs": [
        {
          "output_type": "execute_result",
          "data": {
            "text/plain": [
              "Text(0.5, 1.0, 'churned')"
            ]
          },
          "metadata": {},
          "execution_count": 16
        },
        {
          "output_type": "display_data",
          "data": {
            "text/plain": [
              "<Figure size 432x288 with 1 Axes>"
            ],
            "image/png": "[encoded data removed]"
          },
          "metadata": {
            "needs_background": "light"
          }
        }
      ],
      "source": [
        "df[target].value_counts().plot(kind='bar').set_title('churned')"
      ]
    },
    {
      "cell_type": "code",
      "execution_count": 17,
      "metadata": {
        "colab": {
          "base_uri": "https://localhost:8080/"
        },
        "id": "8ga2yLYDsm5w",
        "outputId": "3f4346ff-a417-4128-8384-8470f540eea0"
      },
      "outputs": [
        {
          "output_type": "stream",
          "name": "stdout",
          "text": [
            "Label encoder CLOUD - values: ['Complete', 'Incomplete']\n",
            "Label encoder EXTENSION - values: ['N', 'Y']\n",
            "Label encoder PAYING_CUSTOMER - values: ['N', 'Y']\n",
            "Label encoder CASE_STUDY - values: ['Complete', 'Incomplete']\n",
            "Label encoder REGION - values: ['EMEA', 'JAPAC', 'LAD', 'NAS']\n",
            "Label encoder MIGRATION_STAGE - values: [0.0, 1.0, 3.0, 4.0, 5.0, 6.0, 7.0, 9.0, 10.0, 12.0, 13.0, 18.0, 19.0]\n",
            "Label encoder PRODUCTION_STAGE - values: [0.0, 1.0, 2.0, 3.0]\n",
            "Label encoder CHURN - values: ['NO', 'YES']\n"
          ]
        }
      ],
      "source": [
        "from sklearn.preprocessing import LabelEncoder\n",
        "\n",
        "categorical_feature_names = []\n",
        "label_encoders = {}\n",
        "for categorical in categorical_features + [target]:\n",
        "    label_encoders[categorical] = LabelEncoder()\n",
        "    df[categorical] = label_encoders[categorical].fit_transform(df[categorical])\n",
        "    names = label_encoders[categorical].classes_.tolist()\n",
        "    print('Label encoder %s - values: %s' % (categorical, names))\n",
        "    if categorical == target:\n",
        "        continue\n",
        "    categorical_feature_names.extend([categorical + '_' + str(name) for name in names])"
      ]
    },
    {
      "cell_type": "code",
      "execution_count": 18,
      "metadata": {
        "colab": {
          "base_uri": "https://localhost:8080/",
          "height": 421
        },
        "id": "RlH8xSZUsm5x",
        "outputId": "d1e300a6-f0bd-43ae-809d-1b72ebf62013"
      },
      "outputs": [
        {
          "output_type": "execute_result",
          "data": {
            "text/plain": [
              "                    COUNTRY  EXTENSION  CREDIT_AMOUNT_TOTAL  STARTUP_ID  \\\n",
              "0                    Canada          0                 0.00        1001   \n",
              "1            United Kingdom          1              1130.99         227   \n",
              "2  United States of America          0                 0.00         228   \n",
              "3  United States of America          0                 0.00         229   \n",
              "4  United States of America          1              2000.00         230   \n",
              "\n",
              "   PAYING_CUSTOMER SUBSCRIPTION_LINE_STATUS  MIGRATION_STAGE  \\\n",
              "0                0                  EXPIRED                0   \n",
              "1                1                  EXPIRED                0   \n",
              "2                0                  EXPIRED                0   \n",
              "3                0                  EXPIRED                0   \n",
              "4                0                  EXPIRED                7   \n",
              "\n",
              "   PRODUCTION_STAGE  CHURN  CASE_STUDY  ...  MENTOR_BENEFIT  \\\n",
              "0                 1      0           1  ...               N   \n",
              "1                 2      0           1  ...               N   \n",
              "2                 0      0           1  ...               N   \n",
              "3                 1      0           1  ...               N   \n",
              "4                 1      1           1  ...               N   \n",
              "\n",
              "   MIGRATION_BENEFIT ORDER_ID PLAN_STATUS PRIMARY_JOB_TITLE     SKU  \\\n",
              "0                  N    12214      Active           Unknown  B90994   \n",
              "1                  N    12202      Active        IT Manager  B90994   \n",
              "2                  N    12228      Active               CEO  B90994   \n",
              "3                  N    12203      Active           Unknown  B90994   \n",
              "4                  N    12212      Active           Unknown  B90994   \n",
              "\n",
              "             TECHNOLOGY1           TECHNOLOGY2                   TECHNOLOGY3  \\\n",
              "0                Unknown               Unknown                       Unknown   \n",
              "1                  Cloud               Unknown                       Unknown   \n",
              "2  Enterprise Management  Financial Management  Project Portfolio Management   \n",
              "3                Unknown               Unknown                       Unknown   \n",
              "4                Unknown               Unknown                       Unknown   \n",
              "\n",
              "  TOT_USED_AMOUNT_CD  \n",
              "0               0.00  \n",
              "1              60.53  \n",
              "2              27.24  \n",
              "3             141.52  \n",
              "4               0.00  \n",
              "\n",
              "[5 rows x 42 columns]"
            ],
            "text/html": [
              "\n",
              "  <div id=\"df-3fdbcb58-57b4-46dd-aa50-1a455b8e4cb9\">\n",
              "    <div class=\"colab-df-container\">\n",
              "      <div>\n",
              "<style scoped>\n",
              "    .dataframe tbody tr th:only-of-type {\n",
              "        vertical-align: middle;\n",
              "    }\n",
              "\n",
              "    .dataframe tbody tr th {\n",
              "        vertical-align: top;\n",
              "    }\n",
              "\n",
              "    .dataframe thead th {\n",
              "        text-align: right;\n",
              "    }\n",
              "</style>\n",
              "<table border=\"1\" class=\"dataframe\">\n",
              "  <thead>\n",
              "    <tr style=\"text-align: right;\">\n",
              "      <th></th>\n",
              "      <th>COUNTRY</th>\n",
              "      <th>EXTENSION</th>\n",
              "      <th>CREDIT_AMOUNT_TOTAL</th>\n",
              "      <th>STARTUP_ID</th>\n",
              "      <th>PAYING_CUSTOMER</th>\n",
              "      <th>SUBSCRIPTION_LINE_STATUS</th>\n",
              "      <th>MIGRATION_STAGE</th>\n",
              "      <th>PRODUCTION_STAGE</th>\n",
              "      <th>CHURN</th>\n",
              "      <th>CASE_STUDY</th>\n",
              "      <th>...</th>\n",
              "      <th>MENTOR_BENEFIT</th>\n",
              "      <th>MIGRATION_BENEFIT</th>\n",
              "      <th>ORDER_ID</th>\n",
              "      <th>PLAN_STATUS</th>\n",
              "      <th>PRIMARY_JOB_TITLE</th>\n",
              "      <th>SKU</th>\n",
              "      <th>TECHNOLOGY1</th>\n",
              "      <th>TECHNOLOGY2</th>\n",
              "      <th>TECHNOLOGY3</th>\n",
              "      <th>TOT_USED_AMOUNT_CD</th>\n",
              "    </tr>\n",
              "  </thead>\n",
              "  <tbody>\n",
              "    <tr>\n",
              "      <th>0</th>\n",
              "      <td>Canada</td>\n",
              "      <td>0</td>\n",
              "      <td>0.00</td>\n",
              "      <td>1001</td>\n",
              "      <td>0</td>\n",
              "      <td>EXPIRED</td>\n",
              "      <td>0</td>\n",
              "      <td>1</td>\n",
              "      <td>0</td>\n",
              "      <td>1</td>\n",
              "      <td>...</td>\n",
              "      <td>N</td>\n",
              "      <td>N</td>\n",
              "      <td>12214</td>\n",
              "      <td>Active</td>\n",
              "      <td>Unknown</td>\n",
              "      <td>B90994</td>\n",
              "      <td>Unknown</td>\n",
              "      <td>Unknown</td>\n",
              "      <td>Unknown</td>\n",
              "      <td>0.00</td>\n",
              "    </tr>\n",
              "    <tr>\n",
              "      <th>1</th>\n",
              "      <td>United Kingdom</td>\n",
              "      <td>1</td>\n",
              "      <td>1130.99</td>\n",
              "      <td>227</td>\n",
              "      <td>1</td>\n",
              "      <td>EXPIRED</td>\n",
              "      <td>0</td>\n",
              "      <td>2</td>\n",
              "      <td>0</td>\n",
              "      <td>1</td>\n",
              "      <td>...</td>\n",
              "      <td>N</td>\n",
              "      <td>N</td>\n",
              "      <td>12202</td>\n",
              "      <td>Active</td>\n",
              "      <td>IT Manager</td>\n",
              "      <td>B90994</td>\n",
              "      <td>Cloud</td>\n",
              "      <td>Unknown</td>\n",
              "      <td>Unknown</td>\n",
              "      <td>60.53</td>\n",
              "    </tr>\n",
              "    <tr>\n",
              "      <th>2</th>\n",
              "      <td>United States of America</td>\n",
              "      <td>0</td>\n",
              "      <td>0.00</td>\n",
              "      <td>228</td>\n",
              "      <td>0</td>\n",
              "      <td>EXPIRED</td>\n",
              "      <td>0</td>\n",
              "      <td>0</td>\n",
              "      <td>0</td>\n",
              "      <td>1</td>\n",
              "      <td>...</td>\n",
              "      <td>N</td>\n",
              "      <td>N</td>\n",
              "      <td>12228</td>\n",
              "      <td>Active</td>\n",
              "      <td>CEO</td>\n",
              "      <td>B90994</td>\n",
              "      <td>Enterprise Management</td>\n",
              "      <td>Financial Management</td>\n",
              "      <td>Project Portfolio Management</td>\n",
              "      <td>27.24</td>\n",
              "    </tr>\n",
              "    <tr>\n",
              "      <th>3</th>\n",
              "      <td>United States of America</td>\n",
              "      <td>0</td>\n",
              "      <td>0.00</td>\n",
              "      <td>229</td>\n",
              "      <td>0</td>\n",
              "      <td>EXPIRED</td>\n",
              "      <td>0</td>\n",
              "      <td>1</td>\n",
              "      <td>0</td>\n",
              "      <td>1</td>\n",
              "      <td>...</td>\n",
              "      <td>N</td>\n",
              "      <td>N</td>\n",
              "      <td>12203</td>\n",
              "      <td>Active</td>\n",
              "      <td>Unknown</td>\n",
              "      <td>B90994</td>\n",
              "      <td>Unknown</td>\n",
              "      <td>Unknown</td>\n",
              "      <td>Unknown</td>\n",
              "      <td>141.52</td>\n",
              "    </tr>\n",
              "    <tr>\n",
              "      <th>4</th>\n",
              "      <td>United States of America</td>\n",
              "      <td>1</td>\n",
              "      <td>2000.00</td>\n",
              "      <td>230</td>\n",
              "      <td>0</td>\n",
              "      <td>EXPIRED</td>\n",
              "      <td>7</td>\n",
              "      <td>1</td>\n",
              "      <td>1</td>\n",
              "      <td>1</td>\n",
              "      <td>...</td>\n",
              "      <td>N</td>\n",
              "      <td>N</td>\n",
              "      <td>12212</td>\n",
              "      <td>Active</td>\n",
              "      <td>Unknown</td>\n",
              "      <td>B90994</td>\n",
              "      <td>Unknown</td>\n",
              "      <td>Unknown</td>\n",
              "      <td>Unknown</td>\n",
              "      <td>0.00</td>\n",
              "    </tr>\n",
              "  </tbody>\n",
              "</table>\n",
              "<p>5 rows × 42 columns</p>\n",
              "</div>\n",
              "      <button class=\"colab-df-convert\" onclick=\"convertToInteractive('df-3fdbcb58-57b4-46dd-aa50-1a455b8e4cb9')\"\n",
              "              title=\"Convert this dataframe to an interactive table.\"\n",
              "              style=\"display:none;\">\n",
              "        \n",
              "  <svg xmlns=\"http://www.w3.org/2000/svg\" height=\"24px\"viewBox=\"0 0 24 24\"\n",
              "       width=\"24px\">\n",
              "    <path d=\"M0 0h24v24H0V0z\" fill=\"none\"/>\n",
              "    <path d=\"M18.56 5.44l.94 2.06.94-2.06 2.06-.94-2.06-.94-.94-2.06-.94 2.06-2.06.94zm-11 1L8.5 8.5l.94-2.06 2.06-.94-2.06-.94L8.5 2.5l-.94 2.06-2.06.94zm10 10l.94 2.06.94-2.06 2.06-.94-2.06-.94-.94-2.06-.94 2.06-2.06.94z\"/><path d=\"M17.41 7.96l-1.37-1.37c-.4-.4-.92-.59-1.43-.59-.52 0-1.04.2-1.43.59L10.3 9.45l-7.72 7.72c-.78.78-.78 2.05 0 2.83L4 21.41c.39.39.9.59 1.41.59.51 0 1.02-.2 1.41-.59l7.78-7.78 2.81-2.81c.8-.78.8-2.07 0-2.86zM5.41 20L4 18.59l7.72-7.72 1.47 1.35L5.41 20z\"/>\n",
              "  </svg>\n",
              "      </button>\n",
              "      \n",
              "  <style>\n",
              "    .colab-df-container {\n",
              "      display:flex;\n",
              "      flex-wrap:wrap;\n",
              "      gap: 12px;\n",
              "    }\n",
              "\n",
              "    .colab-df-convert {\n",
              "      background-color: #E8F0FE;\n",
              "      border: none;\n",
              "      border-radius: 50%;\n",
              "      cursor: pointer;\n",
              "      display: none;\n",
              "      fill: #1967D2;\n",
              "      height: 32px;\n",
              "      padding: 0 0 0 0;\n",
              "      width: 32px;\n",
              "    }\n",
              "\n",
              "    .colab-df-convert:hover {\n",
              "      background-color: #E2EBFA;\n",
              "      box-shadow: 0px 1px 2px rgba(60, 64, 67, 0.3), 0px 1px 3px 1px rgba(60, 64, 67, 0.15);\n",
              "      fill: #174EA6;\n",
              "    }\n",
              "\n",
              "    [theme=dark] .colab-df-convert {\n",
              "      background-color: #3B4455;\n",
              "      fill: #D2E3FC;\n",
              "    }\n",
              "\n",
              "    [theme=dark] .colab-df-convert:hover {\n",
              "      background-color: #434B5C;\n",
              "      box-shadow: 0px 1px 3px 1px rgba(0, 0, 0, 0.15);\n",
              "      filter: drop-shadow(0px 1px 2px rgba(0, 0, 0, 0.3));\n",
              "      fill: #FFFFFF;\n",
              "    }\n",
              "  </style>\n",
              "\n",
              "      <script>\n",
              "        const buttonEl =\n",
              "          document.querySelector('#df-3fdbcb58-57b4-46dd-aa50-1a455b8e4cb9 button.colab-df-convert');\n",
              "        buttonEl.style.display =\n",
              "          google.colab.kernel.accessAllowed ? 'block' : 'none';\n",
              "\n",
              "        async function convertToInteractive(key) {\n",
              "          const element = document.querySelector('#df-3fdbcb58-57b4-46dd-aa50-1a455b8e4cb9');\n",
              "          const dataTable =\n",
              "            await google.colab.kernel.invokeFunction('convertToInteractive',\n",
              "                                                     [key], {});\n",
              "          if (!dataTable) return;\n",
              "\n",
              "          const docLinkHtml = 'Like what you see? Visit the ' +\n",
              "            '<a target=\"_blank\" href=https://colab.research.google.com/notebooks/data_table.ipynb>data table notebook</a>'\n",
              "            + ' to learn more about interactive tables.';\n",
              "          element.innerHTML = '';\n",
              "          dataTable['output_type'] = 'display_data';\n",
              "          await google.colab.output.renderOutput(dataTable, element);\n",
              "          const docLink = document.createElement('div');\n",
              "          docLink.innerHTML = docLinkHtml;\n",
              "          element.appendChild(docLink);\n",
              "        }\n",
              "      </script>\n",
              "    </div>\n",
              "  </div>\n",
              "  "
            ]
          },
          "metadata": {},
          "execution_count": 18
        }
      ],
      "source": [
        "df.head()"
      ]
    },
    {
      "cell_type": "code",
      "execution_count": 19,
      "metadata": {
        "id": "_F1jdf30sm5y"
      },
      "outputs": [],
      "source": [
        "from sklearn.pipeline import FeatureUnion, Pipeline\n",
        "from sklearn.preprocessing import StandardScaler\n",
        "from sklearn.preprocessing import OneHotEncoder\n",
        "from sklearn import tree\n",
        "from sklearn.base import BaseEstimator, TransformerMixin\n",
        "from sklearn.linear_model import LogisticRegression\n",
        "from sklearn.preprocessing import StandardScaler\n",
        "\n",
        "\n",
        "class ItemSelector(BaseEstimator, TransformerMixin):\n",
        "    def __init__(self, key):\n",
        "        self.key = key\n",
        "\n",
        "    def fit(self, x, y=None):\n",
        "        return self\n",
        "\n",
        "    def transform(self, df):\n",
        "        return df[self.key]"
      ]
    },
    {
      "cell_type": "code",
      "execution_count": 20,
      "metadata": {
        "id": "hS_qiRLcsm5z"
      },
      "outputs": [],
      "source": [
        "pipeline = Pipeline(\n",
        "    [\n",
        "        (\n",
        "            \"union\",\n",
        "            FeatureUnion(\n",
        "                transformer_list=[\n",
        "                    (\n",
        "                        \"categorical_features\",\n",
        "                        Pipeline(\n",
        "                            [\n",
        "                                (\"selector\", ItemSelector(key=categorical_features)),\n",
        "                                (\"onehot\", OneHotEncoder(handle_unknown='ignore')),\n",
        "                            ]\n",
        "                        ),\n",
        "                    )\n",
        "                ]\n",
        "                + [\n",
        "                    (\n",
        "                        \"numerical_features\",\n",
        "                        Pipeline(\n",
        "                            [\n",
        "                                (\"selector\", ItemSelector(key=numerical_features)),\n",
        "                                (\"scalar\", StandardScaler()),\n",
        "                            ]\n",
        "                        ),\n",
        "                    )\n",
        "                ]\n",
        "            ),\n",
        "        ),\n",
        "        (\"classifier\", tree.DecisionTreeClassifier(max_depth=3, random_state=42)),\n",
        "    ]\n",
        ")"
      ]
    },
    {
      "cell_type": "code",
      "execution_count": 21,
      "metadata": {
        "id": "vEPPjEU4sm51"
      },
      "outputs": [],
      "source": [
        "from sklearn.model_selection import train_test_split\n",
        "\n",
        "df_train, df_test = train_test_split(df, test_size=0.25, random_state=42)\n",
        "\n",
        "pipeline.fit(df_train, df_train[target])\n",
        "pred = pipeline.predict(df_test)"
      ]
    },
    {
      "cell_type": "markdown",
      "metadata": {
        "id": "7Dl4X64Xsm52"
      },
      "source": [
        "### Testing the model"
      ]
    },
    {
      "cell_type": "code",
      "execution_count": 22,
      "metadata": {
        "colab": {
          "base_uri": "https://localhost:8080/"
        },
        "id": "e0x_oN1Qsm52",
        "outputId": "11aef8b7-7ccf-4441-deb7-6edeed18e186"
      },
      "outputs": [
        {
          "output_type": "stream",
          "name": "stdout",
          "text": [
            "              precision    recall  f1-score   support\n",
            "\n",
            "           0       0.88      1.00      0.93       711\n",
            "           1       0.00      0.00      0.00        98\n",
            "\n",
            "    accuracy                           0.88       809\n",
            "   macro avg       0.44      0.50      0.47       809\n",
            "weighted avg       0.77      0.88      0.82       809\n",
            "\n"
          ]
        }
      ],
      "source": [
        "from sklearn.metrics import classification_report\n",
        "\n",
        "print(classification_report(df_test[target], pred))"
      ]
    },
    {
      "cell_type": "code",
      "execution_count": 23,
      "metadata": {
        "colab": {
          "base_uri": "https://localhost:8080/",
          "height": 598
        },
        "id": "h2xrbD8Lsm53",
        "outputId": "455bc847-cdb3-42f1-bcb5-4534b2339db4"
      },
      "outputs": [
        {
          "output_type": "execute_result",
          "data": {
            "text/plain": [
              "<graphviz.files.Source at 0x7f24b1143e50>"
            ],
            "image/svg+xml": "<?xml version=\"1.0\" encoding=\"UTF-8\" standalone=\"no\"?>\n<!DOCTYPE svg PUBLIC \"-//W3C//DTD SVG 1.1//EN\"\n \"http://www.w3.org/Graphics/SVG/1.1/DTD/svg11.dtd\">\n<!-- Generated by graphviz version 2.40.1 (20161225.0304)\n -->\n<!-- Title: Tree Pages: 1 -->\n<svg width=\"1089pt\" height=\"433pt\"\n viewBox=\"0.00 0.00 1089.00 433.00\" xmlns=\"http://www.w3.org/2000/svg\" xmlns:xlink=\"http://www.w3.org/1999/xlink\">\n<g id=\"graph0\" class=\"graph\" transform=\"scale(1 1) rotate(0) translate(4 429)\">\n<title>Tree</title>\n<polygon fill=\"#ffffff\" stroke=\"transparent\" points=\"-4,4 -4,-429 1085,-429 1085,4 -4,4\"/>\n<!-- 0 -->\n<g id=\"node1\" class=\"node\">\n<title>0</title>\n<path fill=\"#e89051\" stroke=\"#000000\" d=\"M637,-425C637,-425 409,-425 409,-425 403,-425 397,-419 397,-413 397,-413 397,-354 397,-354 397,-348 403,-342 409,-342 409,-342 637,-342 637,-342 643,-342 649,-348 649,-354 649,-354 649,-413 649,-413 649,-419 643,-425 637,-425\"/>\n<text text-anchor=\"start\" x=\"405\" y=\"-409.8\" font-family=\"Helvetica,sans-Serif\" font-size=\"14.00\" fill=\"#000000\">CREDIT_AMOUNT_TOTAL ≤ &#45;0.153</text>\n<text text-anchor=\"start\" x=\"489.5\" y=\"-394.8\" font-family=\"Helvetica,sans-Serif\" font-size=\"14.00\" fill=\"#000000\">gini = 0.19</text>\n<text text-anchor=\"start\" x=\"471\" y=\"-379.8\" font-family=\"Helvetica,sans-Serif\" font-size=\"14.00\" fill=\"#000000\">samples = 2427</text>\n<text text-anchor=\"start\" x=\"461\" y=\"-364.8\" font-family=\"Helvetica,sans-Serif\" font-size=\"14.00\" fill=\"#000000\">value = [2169, 258]</text>\n<text text-anchor=\"start\" x=\"494\" y=\"-349.8\" font-family=\"Helvetica,sans-Serif\" font-size=\"14.00\" fill=\"#000000\">class = 0</text>\n</g>\n<!-- 1 -->\n<g id=\"node2\" class=\"node\">\n<title>1</title>\n<path fill=\"#e78a47\" stroke=\"#000000\" d=\"M502.5,-306C502.5,-306 291.5,-306 291.5,-306 285.5,-306 279.5,-300 279.5,-294 279.5,-294 279.5,-235 279.5,-235 279.5,-229 285.5,-223 291.5,-223 291.5,-223 502.5,-223 502.5,-223 508.5,-223 514.5,-229 514.5,-235 514.5,-235 514.5,-294 514.5,-294 514.5,-300 508.5,-306 502.5,-306\"/>\n<text text-anchor=\"start\" x=\"287.5\" y=\"-290.8\" font-family=\"Helvetica,sans-Serif\" font-size=\"14.00\" fill=\"#000000\">PRODUCTION_STAGE_2.0 ≤ 0.5</text>\n<text text-anchor=\"start\" x=\"359\" y=\"-275.8\" font-family=\"Helvetica,sans-Serif\" font-size=\"14.00\" fill=\"#000000\">gini = 0.123</text>\n<text text-anchor=\"start\" x=\"345\" y=\"-260.8\" font-family=\"Helvetica,sans-Serif\" font-size=\"14.00\" fill=\"#000000\">samples = 1500</text>\n<text text-anchor=\"start\" x=\"339\" y=\"-245.8\" font-family=\"Helvetica,sans-Serif\" font-size=\"14.00\" fill=\"#000000\">value = [1401, 99]</text>\n<text text-anchor=\"start\" x=\"368\" y=\"-230.8\" font-family=\"Helvetica,sans-Serif\" font-size=\"14.00\" fill=\"#000000\">class = 0</text>\n</g>\n<!-- 0&#45;&gt;1 -->\n<g id=\"edge1\" class=\"edge\">\n<title>0&#45;&gt;1</title>\n<path fill=\"none\" stroke=\"#000000\" d=\"M478.9313,-341.8796C469.2045,-332.6931 458.8139,-322.8798 448.8121,-313.4336\"/>\n<polygon fill=\"#000000\" stroke=\"#000000\" points=\"450.9301,-310.6198 441.2568,-306.2981 446.1237,-315.7089 450.9301,-310.6198\"/>\n<text text-anchor=\"middle\" x=\"441.9708\" y=\"-327.5879\" font-family=\"Helvetica,sans-Serif\" font-size=\"14.00\" fill=\"#000000\">True</text>\n</g>\n<!-- 8 -->\n<g id=\"node9\" class=\"node\">\n<title>8</title>\n<path fill=\"#ea9b62\" stroke=\"#000000\" d=\"M755.5,-306C755.5,-306 544.5,-306 544.5,-306 538.5,-306 532.5,-300 532.5,-294 532.5,-294 532.5,-235 532.5,-235 532.5,-229 538.5,-223 544.5,-223 544.5,-223 755.5,-223 755.5,-223 761.5,-223 767.5,-229 767.5,-235 767.5,-235 767.5,-294 767.5,-294 767.5,-300 761.5,-306 755.5,-306\"/>\n<text text-anchor=\"start\" x=\"540.5\" y=\"-290.8\" font-family=\"Helvetica,sans-Serif\" font-size=\"14.00\" fill=\"#000000\">PRODUCTION_STAGE_0.0 ≤ 0.5</text>\n<text text-anchor=\"start\" x=\"612\" y=\"-275.8\" font-family=\"Helvetica,sans-Serif\" font-size=\"14.00\" fill=\"#000000\">gini = 0.284</text>\n<text text-anchor=\"start\" x=\"602\" y=\"-260.8\" font-family=\"Helvetica,sans-Serif\" font-size=\"14.00\" fill=\"#000000\">samples = 927</text>\n<text text-anchor=\"start\" x=\"592\" y=\"-245.8\" font-family=\"Helvetica,sans-Serif\" font-size=\"14.00\" fill=\"#000000\">value = [768, 159]</text>\n<text text-anchor=\"start\" x=\"621\" y=\"-230.8\" font-family=\"Helvetica,sans-Serif\" font-size=\"14.00\" fill=\"#000000\">class = 0</text>\n</g>\n<!-- 0&#45;&gt;8 -->\n<g id=\"edge8\" class=\"edge\">\n<title>0&#45;&gt;8</title>\n<path fill=\"none\" stroke=\"#000000\" d=\"M567.4184,-341.8796C577.3186,-332.6031 587.9009,-322.6874 598.0731,-313.1559\"/>\n<polygon fill=\"#000000\" stroke=\"#000000\" points=\"600.4879,-315.6896 605.392,-306.2981 595.7016,-310.5816 600.4879,-315.6896\"/>\n<text text-anchor=\"middle\" x=\"604.5794\" y=\"-327.5849\" font-family=\"Helvetica,sans-Serif\" font-size=\"14.00\" fill=\"#000000\">False</text>\n</g>\n<!-- 2 -->\n<g id=\"node3\" class=\"node\">\n<title>2</title>\n<path fill=\"#e78945\" stroke=\"#000000\" d=\"M285.5,-187C285.5,-187 94.5,-187 94.5,-187 88.5,-187 82.5,-181 82.5,-175 82.5,-175 82.5,-116 82.5,-116 82.5,-110 88.5,-104 94.5,-104 94.5,-104 285.5,-104 285.5,-104 291.5,-104 297.5,-110 297.5,-116 297.5,-116 297.5,-175 297.5,-175 297.5,-181 291.5,-187 285.5,-187\"/>\n<text text-anchor=\"start\" x=\"90.5\" y=\"-171.8\" font-family=\"Helvetica,sans-Serif\" font-size=\"14.00\" fill=\"#000000\">PAYING_CUSTOMER_N ≤ 0.5</text>\n<text text-anchor=\"start\" x=\"152\" y=\"-156.8\" font-family=\"Helvetica,sans-Serif\" font-size=\"14.00\" fill=\"#000000\">gini = 0.108</text>\n<text text-anchor=\"start\" x=\"138\" y=\"-141.8\" font-family=\"Helvetica,sans-Serif\" font-size=\"14.00\" fill=\"#000000\">samples = 1412</text>\n<text text-anchor=\"start\" x=\"132\" y=\"-126.8\" font-family=\"Helvetica,sans-Serif\" font-size=\"14.00\" fill=\"#000000\">value = [1331, 81]</text>\n<text text-anchor=\"start\" x=\"161\" y=\"-111.8\" font-family=\"Helvetica,sans-Serif\" font-size=\"14.00\" fill=\"#000000\">class = 0</text>\n</g>\n<!-- 1&#45;&gt;2 -->\n<g id=\"edge2\" class=\"edge\">\n<title>1&#45;&gt;2</title>\n<path fill=\"none\" stroke=\"#000000\" d=\"M324.6014,-222.8796C307.4257,-213.0056 288.9903,-202.4075 271.442,-192.3193\"/>\n<polygon fill=\"#000000\" stroke=\"#000000\" points=\"272.7716,-189.0466 262.3577,-187.0969 269.2828,-195.1152 272.7716,-189.0466\"/>\n</g>\n<!-- 5 -->\n<g id=\"node6\" class=\"node\">\n<title>5</title>\n<path fill=\"#eca16c\" stroke=\"#000000\" d=\"M482.5,-187C482.5,-187 327.5,-187 327.5,-187 321.5,-187 315.5,-181 315.5,-175 315.5,-175 315.5,-116 315.5,-116 315.5,-110 321.5,-104 327.5,-104 327.5,-104 482.5,-104 482.5,-104 488.5,-104 494.5,-110 494.5,-116 494.5,-116 494.5,-175 494.5,-175 494.5,-181 488.5,-187 482.5,-187\"/>\n<text text-anchor=\"start\" x=\"323.5\" y=\"-171.8\" font-family=\"Helvetica,sans-Serif\" font-size=\"14.00\" fill=\"#000000\">CLOUD_USAGE ≤ 2.233</text>\n<text text-anchor=\"start\" x=\"367\" y=\"-156.8\" font-family=\"Helvetica,sans-Serif\" font-size=\"14.00\" fill=\"#000000\">gini = 0.325</text>\n<text text-anchor=\"start\" x=\"361\" y=\"-141.8\" font-family=\"Helvetica,sans-Serif\" font-size=\"14.00\" fill=\"#000000\">samples = 88</text>\n<text text-anchor=\"start\" x=\"355\" y=\"-126.8\" font-family=\"Helvetica,sans-Serif\" font-size=\"14.00\" fill=\"#000000\">value = [70, 18]</text>\n<text text-anchor=\"start\" x=\"376\" y=\"-111.8\" font-family=\"Helvetica,sans-Serif\" font-size=\"14.00\" fill=\"#000000\">class = 0</text>\n</g>\n<!-- 1&#45;&gt;5 -->\n<g id=\"edge5\" class=\"edge\">\n<title>1&#45;&gt;5</title>\n<path fill=\"none\" stroke=\"#000000\" d=\"M399.798,-222.8796C400.349,-214.6838 400.9335,-205.9891 401.5041,-197.5013\"/>\n<polygon fill=\"#000000\" stroke=\"#000000\" points=\"405.0113,-197.5103 402.19,-187.2981 398.0271,-197.0408 405.0113,-197.5103\"/>\n</g>\n<!-- 3 -->\n<g id=\"node4\" class=\"node\">\n<title>3</title>\n<path fill=\"#ea9a60\" stroke=\"#000000\" d=\"M104,-68C104,-68 12,-68 12,-68 6,-68 0,-62 0,-56 0,-56 0,-12 0,-12 0,-6 6,0 12,0 12,0 104,0 104,0 110,0 116,-6 116,-12 116,-12 116,-56 116,-56 116,-62 110,-68 104,-68\"/>\n<text text-anchor=\"start\" x=\"20\" y=\"-52.8\" font-family=\"Helvetica,sans-Serif\" font-size=\"14.00\" fill=\"#000000\">gini = 0.274</text>\n<text text-anchor=\"start\" x=\"14\" y=\"-37.8\" font-family=\"Helvetica,sans-Serif\" font-size=\"14.00\" fill=\"#000000\">samples = 67</text>\n<text text-anchor=\"start\" x=\"8\" y=\"-22.8\" font-family=\"Helvetica,sans-Serif\" font-size=\"14.00\" fill=\"#000000\">value = [56, 11]</text>\n<text text-anchor=\"start\" x=\"29\" y=\"-7.8\" font-family=\"Helvetica,sans-Serif\" font-size=\"14.00\" fill=\"#000000\">class = 0</text>\n</g>\n<!-- 2&#45;&gt;3 -->\n<g id=\"edge3\" class=\"edge\">\n<title>2&#45;&gt;3</title>\n<path fill=\"none\" stroke=\"#000000\" d=\"M140.8481,-103.9815C129.5324,-94.4232 117.5087,-84.2668 106.2325,-74.7419\"/>\n<polygon fill=\"#000000\" stroke=\"#000000\" points=\"108.4612,-72.0429 98.5633,-68.2637 103.9441,-77.3904 108.4612,-72.0429\"/>\n</g>\n<!-- 4 -->\n<g id=\"node5\" class=\"node\">\n<title>4</title>\n<path fill=\"#e68844\" stroke=\"#000000\" d=\"M254,-68C254,-68 146,-68 146,-68 140,-68 134,-62 134,-56 134,-56 134,-12 134,-12 134,-6 140,0 146,0 146,0 254,0 254,0 260,0 266,-6 266,-12 266,-12 266,-56 266,-56 266,-62 260,-68 254,-68\"/>\n<text text-anchor=\"start\" x=\"162\" y=\"-52.8\" font-family=\"Helvetica,sans-Serif\" font-size=\"14.00\" fill=\"#000000\">gini = 0.099</text>\n<text text-anchor=\"start\" x=\"148\" y=\"-37.8\" font-family=\"Helvetica,sans-Serif\" font-size=\"14.00\" fill=\"#000000\">samples = 1345</text>\n<text text-anchor=\"start\" x=\"142\" y=\"-22.8\" font-family=\"Helvetica,sans-Serif\" font-size=\"14.00\" fill=\"#000000\">value = [1275, 70]</text>\n<text text-anchor=\"start\" x=\"171\" y=\"-7.8\" font-family=\"Helvetica,sans-Serif\" font-size=\"14.00\" fill=\"#000000\">class = 0</text>\n</g>\n<!-- 2&#45;&gt;4 -->\n<g id=\"edge4\" class=\"edge\">\n<title>2&#45;&gt;4</title>\n<path fill=\"none\" stroke=\"#000000\" d=\"M193.7236,-103.9815C194.4737,-95.618 195.2649,-86.7965 196.0232,-78.3409\"/>\n<polygon fill=\"#000000\" stroke=\"#000000\" points=\"199.5197,-78.5364 196.927,-68.2637 192.5477,-77.911 199.5197,-78.5364\"/>\n</g>\n<!-- 6 -->\n<g id=\"node7\" class=\"node\">\n<title>6</title>\n<path fill=\"#eba069\" stroke=\"#000000\" d=\"M403,-68C403,-68 311,-68 311,-68 305,-68 299,-62 299,-56 299,-56 299,-12 299,-12 299,-6 305,0 311,0 311,0 403,0 403,0 409,0 415,-6 415,-12 415,-12 415,-56 415,-56 415,-62 409,-68 403,-68\"/>\n<text text-anchor=\"start\" x=\"319\" y=\"-52.8\" font-family=\"Helvetica,sans-Serif\" font-size=\"14.00\" fill=\"#000000\">gini = 0.314</text>\n<text text-anchor=\"start\" x=\"313\" y=\"-37.8\" font-family=\"Helvetica,sans-Serif\" font-size=\"14.00\" fill=\"#000000\">samples = 87</text>\n<text text-anchor=\"start\" x=\"307\" y=\"-22.8\" font-family=\"Helvetica,sans-Serif\" font-size=\"14.00\" fill=\"#000000\">value = [70, 17]</text>\n<text text-anchor=\"start\" x=\"328\" y=\"-7.8\" font-family=\"Helvetica,sans-Serif\" font-size=\"14.00\" fill=\"#000000\">class = 0</text>\n</g>\n<!-- 5&#45;&gt;6 -->\n<g id=\"edge6\" class=\"edge\">\n<title>5&#45;&gt;6</title>\n<path fill=\"none\" stroke=\"#000000\" d=\"M387.1266,-103.9815C383.4074,-95.3423 379.478,-86.2144 375.729,-77.5059\"/>\n<polygon fill=\"#000000\" stroke=\"#000000\" points=\"378.9192,-76.0648 371.7503,-68.2637 372.4897,-78.8327 378.9192,-76.0648\"/>\n</g>\n<!-- 7 -->\n<g id=\"node8\" class=\"node\">\n<title>7</title>\n<path fill=\"#399de5\" stroke=\"#000000\" d=\"M520.5,-68C520.5,-68 445.5,-68 445.5,-68 439.5,-68 433.5,-62 433.5,-56 433.5,-56 433.5,-12 433.5,-12 433.5,-6 439.5,0 445.5,0 445.5,0 520.5,0 520.5,0 526.5,0 532.5,-6 532.5,-12 532.5,-12 532.5,-56 532.5,-56 532.5,-62 526.5,-68 520.5,-68\"/>\n<text text-anchor=\"start\" x=\"453.5\" y=\"-52.8\" font-family=\"Helvetica,sans-Serif\" font-size=\"14.00\" fill=\"#000000\">gini = 0.0</text>\n<text text-anchor=\"start\" x=\"443.5\" y=\"-37.8\" font-family=\"Helvetica,sans-Serif\" font-size=\"14.00\" fill=\"#000000\">samples = 1</text>\n<text text-anchor=\"start\" x=\"441.5\" y=\"-22.8\" font-family=\"Helvetica,sans-Serif\" font-size=\"14.00\" fill=\"#000000\">value = [0, 1]</text>\n<text text-anchor=\"start\" x=\"454\" y=\"-7.8\" font-family=\"Helvetica,sans-Serif\" font-size=\"14.00\" fill=\"#000000\">class = 1</text>\n</g>\n<!-- 5&#45;&gt;7 -->\n<g id=\"edge7\" class=\"edge\">\n<title>5&#45;&gt;7</title>\n<path fill=\"none\" stroke=\"#000000\" d=\"M434.0443,-103.9815C440.2808,-95.0666 446.8813,-85.6313 453.1478,-76.6734\"/>\n<polygon fill=\"#000000\" stroke=\"#000000\" points=\"456.1665,-78.464 459.0308,-68.2637 450.4307,-74.4515 456.1665,-78.464\"/>\n</g>\n<!-- 9 -->\n<g id=\"node10\" class=\"node\">\n<title>9</title>\n<path fill=\"#eba069\" stroke=\"#000000\" d=\"M743.5,-187C743.5,-187 540.5,-187 540.5,-187 534.5,-187 528.5,-181 528.5,-175 528.5,-175 528.5,-116 528.5,-116 528.5,-110 534.5,-104 540.5,-104 540.5,-104 743.5,-104 743.5,-104 749.5,-104 755.5,-110 755.5,-116 755.5,-116 755.5,-175 755.5,-175 755.5,-181 749.5,-187 743.5,-187\"/>\n<text text-anchor=\"start\" x=\"536.5\" y=\"-171.8\" font-family=\"Helvetica,sans-Serif\" font-size=\"14.00\" fill=\"#000000\">MIGRATION_STAGE_18.0 ≤ 0.5</text>\n<text text-anchor=\"start\" x=\"604\" y=\"-156.8\" font-family=\"Helvetica,sans-Serif\" font-size=\"14.00\" fill=\"#000000\">gini = 0.314</text>\n<text text-anchor=\"start\" x=\"594\" y=\"-141.8\" font-family=\"Helvetica,sans-Serif\" font-size=\"14.00\" fill=\"#000000\">samples = 697</text>\n<text text-anchor=\"start\" x=\"584\" y=\"-126.8\" font-family=\"Helvetica,sans-Serif\" font-size=\"14.00\" fill=\"#000000\">value = [561, 136]</text>\n<text text-anchor=\"start\" x=\"613\" y=\"-111.8\" font-family=\"Helvetica,sans-Serif\" font-size=\"14.00\" fill=\"#000000\">class = 0</text>\n</g>\n<!-- 8&#45;&gt;9 -->\n<g id=\"edge9\" class=\"edge\">\n<title>8&#45;&gt;9</title>\n<path fill=\"none\" stroke=\"#000000\" d=\"M647.202,-222.8796C646.651,-214.6838 646.0665,-205.9891 645.4959,-197.5013\"/>\n<polygon fill=\"#000000\" stroke=\"#000000\" points=\"648.9729,-197.0408 644.81,-187.2981 641.9887,-197.5103 648.9729,-197.0408\"/>\n</g>\n<!-- 12 -->\n<g id=\"node13\" class=\"node\">\n<title>12</title>\n<path fill=\"#e88f4f\" stroke=\"#000000\" d=\"M1012.5,-187C1012.5,-187 785.5,-187 785.5,-187 779.5,-187 773.5,-181 773.5,-175 773.5,-175 773.5,-116 773.5,-116 773.5,-110 779.5,-104 785.5,-104 785.5,-104 1012.5,-104 1012.5,-104 1018.5,-104 1024.5,-110 1024.5,-116 1024.5,-116 1024.5,-175 1024.5,-175 1024.5,-181 1018.5,-187 1012.5,-187\"/>\n<text text-anchor=\"start\" x=\"781.5\" y=\"-171.8\" font-family=\"Helvetica,sans-Serif\" font-size=\"14.00\" fill=\"#000000\">TOT_USED_AMOUNT_CD ≤ &#45;0.157</text>\n<text text-anchor=\"start\" x=\"865.5\" y=\"-156.8\" font-family=\"Helvetica,sans-Serif\" font-size=\"14.00\" fill=\"#000000\">gini = 0.18</text>\n<text text-anchor=\"start\" x=\"851\" y=\"-141.8\" font-family=\"Helvetica,sans-Serif\" font-size=\"14.00\" fill=\"#000000\">samples = 230</text>\n<text text-anchor=\"start\" x=\"845\" y=\"-126.8\" font-family=\"Helvetica,sans-Serif\" font-size=\"14.00\" fill=\"#000000\">value = [207, 23]</text>\n<text text-anchor=\"start\" x=\"870\" y=\"-111.8\" font-family=\"Helvetica,sans-Serif\" font-size=\"14.00\" fill=\"#000000\">class = 0</text>\n</g>\n<!-- 8&#45;&gt;12 -->\n<g id=\"edge12\" class=\"edge\">\n<title>8&#45;&gt;12</title>\n<path fill=\"none\" stroke=\"#000000\" d=\"M737.0881,-222.8796C758.3174,-212.7339 781.1466,-201.8235 802.7739,-191.4876\"/>\n<polygon fill=\"#000000\" stroke=\"#000000\" points=\"804.4477,-194.5669 811.9611,-187.0969 801.4293,-188.2511 804.4477,-194.5669\"/>\n</g>\n<!-- 10 -->\n<g id=\"node11\" class=\"node\">\n<title>10</title>\n<path fill=\"#eb9f68\" stroke=\"#000000\" d=\"M679,-68C679,-68 571,-68 571,-68 565,-68 559,-62 559,-56 559,-56 559,-12 559,-12 559,-6 565,0 571,0 571,0 679,0 679,0 685,0 691,-6 691,-12 691,-12 691,-56 691,-56 691,-62 685,-68 679,-68\"/>\n<text text-anchor=\"start\" x=\"587\" y=\"-52.8\" font-family=\"Helvetica,sans-Serif\" font-size=\"14.00\" fill=\"#000000\">gini = 0.311</text>\n<text text-anchor=\"start\" x=\"577\" y=\"-37.8\" font-family=\"Helvetica,sans-Serif\" font-size=\"14.00\" fill=\"#000000\">samples = 695</text>\n<text text-anchor=\"start\" x=\"567\" y=\"-22.8\" font-family=\"Helvetica,sans-Serif\" font-size=\"14.00\" fill=\"#000000\">value = [561, 134]</text>\n<text text-anchor=\"start\" x=\"596\" y=\"-7.8\" font-family=\"Helvetica,sans-Serif\" font-size=\"14.00\" fill=\"#000000\">class = 0</text>\n</g>\n<!-- 9&#45;&gt;10 -->\n<g id=\"edge10\" class=\"edge\">\n<title>9&#45;&gt;10</title>\n<path fill=\"none\" stroke=\"#000000\" d=\"M635.6698,-103.9815C634.3947,-95.618 633.0497,-86.7965 631.7605,-78.3409\"/>\n<polygon fill=\"#000000\" stroke=\"#000000\" points=\"635.1914,-77.6219 630.2241,-68.2637 628.2714,-78.677 635.1914,-77.6219\"/>\n</g>\n<!-- 11 -->\n<g id=\"node12\" class=\"node\">\n<title>11</title>\n<path fill=\"#399de5\" stroke=\"#000000\" d=\"M796.5,-68C796.5,-68 721.5,-68 721.5,-68 715.5,-68 709.5,-62 709.5,-56 709.5,-56 709.5,-12 709.5,-12 709.5,-6 715.5,0 721.5,0 721.5,0 796.5,0 796.5,0 802.5,0 808.5,-6 808.5,-12 808.5,-12 808.5,-56 808.5,-56 808.5,-62 802.5,-68 796.5,-68\"/>\n<text text-anchor=\"start\" x=\"729.5\" y=\"-52.8\" font-family=\"Helvetica,sans-Serif\" font-size=\"14.00\" fill=\"#000000\">gini = 0.0</text>\n<text text-anchor=\"start\" x=\"719.5\" y=\"-37.8\" font-family=\"Helvetica,sans-Serif\" font-size=\"14.00\" fill=\"#000000\">samples = 2</text>\n<text text-anchor=\"start\" x=\"717.5\" y=\"-22.8\" font-family=\"Helvetica,sans-Serif\" font-size=\"14.00\" fill=\"#000000\">value = [0, 2]</text>\n<text text-anchor=\"start\" x=\"730\" y=\"-7.8\" font-family=\"Helvetica,sans-Serif\" font-size=\"14.00\" fill=\"#000000\">class = 1</text>\n</g>\n<!-- 9&#45;&gt;11 -->\n<g id=\"edge11\" class=\"edge\">\n<title>9&#45;&gt;11</title>\n<path fill=\"none\" stroke=\"#000000\" d=\"M685.5665,-103.9815C695.4034,-94.607 705.844,-84.6572 715.6711,-75.2921\"/>\n<polygon fill=\"#000000\" stroke=\"#000000\" points=\"718.2216,-77.6963 723.0462,-68.2637 713.3924,-72.6289 718.2216,-77.6963\"/>\n</g>\n<!-- 13 -->\n<g id=\"node14\" class=\"node\">\n<title>13</title>\n<path fill=\"#e78946\" stroke=\"#000000\" d=\"M935,-68C935,-68 843,-68 843,-68 837,-68 831,-62 831,-56 831,-56 831,-12 831,-12 831,-6 837,0 843,0 843,0 935,0 935,0 941,0 947,-6 947,-12 947,-12 947,-56 947,-56 947,-62 941,-68 935,-68\"/>\n<text text-anchor=\"start\" x=\"851\" y=\"-52.8\" font-family=\"Helvetica,sans-Serif\" font-size=\"14.00\" fill=\"#000000\">gini = 0.112</text>\n<text text-anchor=\"start\" x=\"841\" y=\"-37.8\" font-family=\"Helvetica,sans-Serif\" font-size=\"14.00\" fill=\"#000000\">samples = 134</text>\n<text text-anchor=\"start\" x=\"839\" y=\"-22.8\" font-family=\"Helvetica,sans-Serif\" font-size=\"14.00\" fill=\"#000000\">value = [126, 8]</text>\n<text text-anchor=\"start\" x=\"860\" y=\"-7.8\" font-family=\"Helvetica,sans-Serif\" font-size=\"14.00\" fill=\"#000000\">class = 0</text>\n</g>\n<!-- 12&#45;&gt;13 -->\n<g id=\"edge13\" class=\"edge\">\n<title>12&#45;&gt;13</title>\n<path fill=\"none\" stroke=\"#000000\" d=\"M895.2764,-103.9815C894.5263,-95.618 893.7351,-86.7965 892.9768,-78.3409\"/>\n<polygon fill=\"#000000\" stroke=\"#000000\" points=\"896.4523,-77.911 892.073,-68.2637 889.4803,-78.5364 896.4523,-77.911\"/>\n</g>\n<!-- 14 -->\n<g id=\"node15\" class=\"node\">\n<title>14</title>\n<path fill=\"#ea985e\" stroke=\"#000000\" d=\"M1069,-68C1069,-68 977,-68 977,-68 971,-68 965,-62 965,-56 965,-56 965,-12 965,-12 965,-6 971,0 977,0 977,0 1069,0 1069,0 1075,0 1081,-6 1081,-12 1081,-12 1081,-56 1081,-56 1081,-62 1075,-68 1069,-68\"/>\n<text text-anchor=\"start\" x=\"985\" y=\"-52.8\" font-family=\"Helvetica,sans-Serif\" font-size=\"14.00\" fill=\"#000000\">gini = 0.264</text>\n<text text-anchor=\"start\" x=\"979\" y=\"-37.8\" font-family=\"Helvetica,sans-Serif\" font-size=\"14.00\" fill=\"#000000\">samples = 96</text>\n<text text-anchor=\"start\" x=\"973\" y=\"-22.8\" font-family=\"Helvetica,sans-Serif\" font-size=\"14.00\" fill=\"#000000\">value = [81, 15]</text>\n<text text-anchor=\"start\" x=\"994\" y=\"-7.8\" font-family=\"Helvetica,sans-Serif\" font-size=\"14.00\" fill=\"#000000\">class = 0</text>\n</g>\n<!-- 12&#45;&gt;14 -->\n<g id=\"edge14\" class=\"edge\">\n<title>12&#45;&gt;14</title>\n<path fill=\"none\" stroke=\"#000000\" d=\"M945.173,-103.9815C955.7007,-94.5151 966.8808,-84.462 977.3849,-75.0168\"/>\n<polygon fill=\"#000000\" stroke=\"#000000\" points=\"979.7994,-77.5526 984.8951,-68.2637 975.1189,-72.3475 979.7994,-77.5526\"/>\n</g>\n</g>\n</svg>\n"
          },
          "metadata": {},
          "execution_count": 23
        }
      ],
      "source": [
        "dot_data = tree.export_graphviz(pipeline.named_steps['classifier'], out_file=None, \n",
        "                         feature_names = (categorical_feature_names + numerical_features),\n",
        "                         class_names=[str(el) for el in pipeline.named_steps.classifier.classes_],  \n",
        "                         filled=True, rounded=True,  \n",
        "                         special_characters=True)  \n",
        "graph = graphviz.Source(dot_data) \n",
        "graph"
      ]
    },
    {
      "cell_type": "code",
      "source": [
        "from sklearn.metrics import confusion_matrix\n",
        "\n",
        "#Generate the confusion matrix\n",
        "\n",
        "cf_matrix = confusion_matrix(df_test, pred)\n",
        "\n",
        "print(cf_matrix)"
      ],
      "metadata": {
        "id": "u7ZN3CEsB3cb",
        "colab": {
          "base_uri": "https://localhost:8080/",
          "height": 416
        },
        "outputId": "5c656524-88cc-4a58-d6fc-d2938cb29953"
      },
      "execution_count": 24,
      "outputs": [
        {
          "output_type": "error",
          "ename": "TypeError",
          "evalue": "ignored",
          "traceback": [
            "\u001b[0;31m---------------------------------------------------------------------------\u001b[0m",
            "\u001b[0;31mTypeError\u001b[0m                                 Traceback (most recent call last)",
            "\u001b[0;32m<ipython-input-24-4d62144fe68c>\u001b[0m in \u001b[0;36m<module>\u001b[0;34m\u001b[0m\n\u001b[1;32m      3\u001b[0m \u001b[0;31m#Generate the confusion matrix\u001b[0m\u001b[0;34m\u001b[0m\u001b[0;34m\u001b[0m\u001b[0;34m\u001b[0m\u001b[0m\n\u001b[1;32m      4\u001b[0m \u001b[0;34m\u001b[0m\u001b[0m\n\u001b[0;32m----> 5\u001b[0;31m \u001b[0mcf_matrix\u001b[0m \u001b[0;34m=\u001b[0m \u001b[0mconfusion_matrix\u001b[0m\u001b[0;34m(\u001b[0m\u001b[0mdf_test\u001b[0m\u001b[0;34m,\u001b[0m \u001b[0mpred\u001b[0m\u001b[0;34m)\u001b[0m\u001b[0;34m\u001b[0m\u001b[0;34m\u001b[0m\u001b[0m\n\u001b[0m\u001b[1;32m      6\u001b[0m \u001b[0;34m\u001b[0m\u001b[0m\n\u001b[1;32m      7\u001b[0m \u001b[0mprint\u001b[0m\u001b[0;34m(\u001b[0m\u001b[0mcf_matrix\u001b[0m\u001b[0;34m)\u001b[0m\u001b[0;34m\u001b[0m\u001b[0;34m\u001b[0m\u001b[0m\n",
            "\u001b[0;32m/usr/local/lib/python3.7/dist-packages/sklearn/metrics/_classification.py\u001b[0m in \u001b[0;36mconfusion_matrix\u001b[0;34m(y_true, y_pred, labels, sample_weight, normalize)\u001b[0m\n\u001b[1;32m    305\u001b[0m     \u001b[0;34m(\u001b[0m\u001b[0;36m0\u001b[0m\u001b[0;34m,\u001b[0m \u001b[0;36m2\u001b[0m\u001b[0;34m,\u001b[0m \u001b[0;36m1\u001b[0m\u001b[0;34m,\u001b[0m \u001b[0;36m1\u001b[0m\u001b[0;34m)\u001b[0m\u001b[0;34m\u001b[0m\u001b[0;34m\u001b[0m\u001b[0m\n\u001b[1;32m    306\u001b[0m     \"\"\"\n\u001b[0;32m--> 307\u001b[0;31m     \u001b[0my_type\u001b[0m\u001b[0;34m,\u001b[0m \u001b[0my_true\u001b[0m\u001b[0;34m,\u001b[0m \u001b[0my_pred\u001b[0m \u001b[0;34m=\u001b[0m \u001b[0m_check_targets\u001b[0m\u001b[0;34m(\u001b[0m\u001b[0my_true\u001b[0m\u001b[0;34m,\u001b[0m \u001b[0my_pred\u001b[0m\u001b[0;34m)\u001b[0m\u001b[0;34m\u001b[0m\u001b[0;34m\u001b[0m\u001b[0m\n\u001b[0m\u001b[1;32m    308\u001b[0m     \u001b[0;32mif\u001b[0m \u001b[0my_type\u001b[0m \u001b[0;32mnot\u001b[0m \u001b[0;32min\u001b[0m \u001b[0;34m(\u001b[0m\u001b[0;34m\"binary\"\u001b[0m\u001b[0;34m,\u001b[0m \u001b[0;34m\"multiclass\"\u001b[0m\u001b[0;34m)\u001b[0m\u001b[0;34m:\u001b[0m\u001b[0;34m\u001b[0m\u001b[0;34m\u001b[0m\u001b[0m\n\u001b[1;32m    309\u001b[0m         \u001b[0;32mraise\u001b[0m \u001b[0mValueError\u001b[0m\u001b[0;34m(\u001b[0m\u001b[0;34m\"%s is not supported\"\u001b[0m \u001b[0;34m%\u001b[0m \u001b[0my_type\u001b[0m\u001b[0;34m)\u001b[0m\u001b[0;34m\u001b[0m\u001b[0;34m\u001b[0m\u001b[0m\n",
            "\u001b[0;32m/usr/local/lib/python3.7/dist-packages/sklearn/metrics/_classification.py\u001b[0m in \u001b[0;36m_check_targets\u001b[0;34m(y_true, y_pred)\u001b[0m\n\u001b[1;32m     83\u001b[0m     \"\"\"\n\u001b[1;32m     84\u001b[0m     \u001b[0mcheck_consistent_length\u001b[0m\u001b[0;34m(\u001b[0m\u001b[0my_true\u001b[0m\u001b[0;34m,\u001b[0m \u001b[0my_pred\u001b[0m\u001b[0;34m)\u001b[0m\u001b[0;34m\u001b[0m\u001b[0;34m\u001b[0m\u001b[0m\n\u001b[0;32m---> 85\u001b[0;31m     \u001b[0mtype_true\u001b[0m \u001b[0;34m=\u001b[0m \u001b[0mtype_of_target\u001b[0m\u001b[0;34m(\u001b[0m\u001b[0my_true\u001b[0m\u001b[0;34m)\u001b[0m\u001b[0;34m\u001b[0m\u001b[0;34m\u001b[0m\u001b[0m\n\u001b[0m\u001b[1;32m     86\u001b[0m     \u001b[0mtype_pred\u001b[0m \u001b[0;34m=\u001b[0m \u001b[0mtype_of_target\u001b[0m\u001b[0;34m(\u001b[0m\u001b[0my_pred\u001b[0m\u001b[0;34m)\u001b[0m\u001b[0;34m\u001b[0m\u001b[0;34m\u001b[0m\u001b[0m\n\u001b[1;32m     87\u001b[0m \u001b[0;34m\u001b[0m\u001b[0m\n",
            "\u001b[0;32m/usr/local/lib/python3.7/dist-packages/sklearn/utils/multiclass.py\u001b[0m in \u001b[0;36mtype_of_target\u001b[0;34m(y)\u001b[0m\n\u001b[1;32m    276\u001b[0m         \u001b[0;32mraise\u001b[0m \u001b[0mValueError\u001b[0m\u001b[0;34m(\u001b[0m\u001b[0;34m\"y cannot be class 'SparseSeries' or 'SparseArray'\"\u001b[0m\u001b[0;34m)\u001b[0m\u001b[0;34m\u001b[0m\u001b[0;34m\u001b[0m\u001b[0m\n\u001b[1;32m    277\u001b[0m \u001b[0;34m\u001b[0m\u001b[0m\n\u001b[0;32m--> 278\u001b[0;31m     \u001b[0;32mif\u001b[0m \u001b[0mis_multilabel\u001b[0m\u001b[0;34m(\u001b[0m\u001b[0my\u001b[0m\u001b[0;34m)\u001b[0m\u001b[0;34m:\u001b[0m\u001b[0;34m\u001b[0m\u001b[0;34m\u001b[0m\u001b[0m\n\u001b[0m\u001b[1;32m    279\u001b[0m         \u001b[0;32mreturn\u001b[0m \u001b[0;34m\"multilabel-indicator\"\u001b[0m\u001b[0;34m\u001b[0m\u001b[0;34m\u001b[0m\u001b[0m\n\u001b[1;32m    280\u001b[0m \u001b[0;34m\u001b[0m\u001b[0m\n",
            "\u001b[0;32m/usr/local/lib/python3.7/dist-packages/sklearn/utils/multiclass.py\u001b[0m in \u001b[0;36mis_multilabel\u001b[0;34m(y)\u001b[0m\n\u001b[1;32m    169\u001b[0m         )\n\u001b[1;32m    170\u001b[0m     \u001b[0;32melse\u001b[0m\u001b[0;34m:\u001b[0m\u001b[0;34m\u001b[0m\u001b[0;34m\u001b[0m\u001b[0m\n\u001b[0;32m--> 171\u001b[0;31m         \u001b[0mlabels\u001b[0m \u001b[0;34m=\u001b[0m \u001b[0mnp\u001b[0m\u001b[0;34m.\u001b[0m\u001b[0munique\u001b[0m\u001b[0;34m(\u001b[0m\u001b[0my\u001b[0m\u001b[0;34m)\u001b[0m\u001b[0;34m\u001b[0m\u001b[0;34m\u001b[0m\u001b[0m\n\u001b[0m\u001b[1;32m    172\u001b[0m \u001b[0;34m\u001b[0m\u001b[0m\n\u001b[1;32m    173\u001b[0m         return len(labels) < 3 and (\n",
            "\u001b[0;32m<__array_function__ internals>\u001b[0m in \u001b[0;36munique\u001b[0;34m(*args, **kwargs)\u001b[0m\n",
            "\u001b[0;32m/usr/local/lib/python3.7/dist-packages/numpy/lib/arraysetops.py\u001b[0m in \u001b[0;36munique\u001b[0;34m(ar, return_index, return_inverse, return_counts, axis)\u001b[0m\n\u001b[1;32m    270\u001b[0m     \u001b[0mar\u001b[0m \u001b[0;34m=\u001b[0m \u001b[0mnp\u001b[0m\u001b[0;34m.\u001b[0m\u001b[0masanyarray\u001b[0m\u001b[0;34m(\u001b[0m\u001b[0mar\u001b[0m\u001b[0;34m)\u001b[0m\u001b[0;34m\u001b[0m\u001b[0;34m\u001b[0m\u001b[0m\n\u001b[1;32m    271\u001b[0m     \u001b[0;32mif\u001b[0m \u001b[0maxis\u001b[0m \u001b[0;32mis\u001b[0m \u001b[0;32mNone\u001b[0m\u001b[0;34m:\u001b[0m\u001b[0;34m\u001b[0m\u001b[0;34m\u001b[0m\u001b[0m\n\u001b[0;32m--> 272\u001b[0;31m         \u001b[0mret\u001b[0m \u001b[0;34m=\u001b[0m \u001b[0m_unique1d\u001b[0m\u001b[0;34m(\u001b[0m\u001b[0mar\u001b[0m\u001b[0;34m,\u001b[0m \u001b[0mreturn_index\u001b[0m\u001b[0;34m,\u001b[0m \u001b[0mreturn_inverse\u001b[0m\u001b[0;34m,\u001b[0m \u001b[0mreturn_counts\u001b[0m\u001b[0;34m)\u001b[0m\u001b[0;34m\u001b[0m\u001b[0;34m\u001b[0m\u001b[0m\n\u001b[0m\u001b[1;32m    273\u001b[0m         \u001b[0;32mreturn\u001b[0m \u001b[0m_unpack_tuple\u001b[0m\u001b[0;34m(\u001b[0m\u001b[0mret\u001b[0m\u001b[0;34m)\u001b[0m\u001b[0;34m\u001b[0m\u001b[0;34m\u001b[0m\u001b[0m\n\u001b[1;32m    274\u001b[0m \u001b[0;34m\u001b[0m\u001b[0m\n",
            "\u001b[0;32m/usr/local/lib/python3.7/dist-packages/numpy/lib/arraysetops.py\u001b[0m in \u001b[0;36m_unique1d\u001b[0;34m(ar, return_index, return_inverse, return_counts)\u001b[0m\n\u001b[1;32m    331\u001b[0m         \u001b[0maux\u001b[0m \u001b[0;34m=\u001b[0m \u001b[0mar\u001b[0m\u001b[0;34m[\u001b[0m\u001b[0mperm\u001b[0m\u001b[0;34m]\u001b[0m\u001b[0;34m\u001b[0m\u001b[0;34m\u001b[0m\u001b[0m\n\u001b[1;32m    332\u001b[0m     \u001b[0;32melse\u001b[0m\u001b[0;34m:\u001b[0m\u001b[0;34m\u001b[0m\u001b[0;34m\u001b[0m\u001b[0m\n\u001b[0;32m--> 333\u001b[0;31m         \u001b[0mar\u001b[0m\u001b[0;34m.\u001b[0m\u001b[0msort\u001b[0m\u001b[0;34m(\u001b[0m\u001b[0;34m)\u001b[0m\u001b[0;34m\u001b[0m\u001b[0;34m\u001b[0m\u001b[0m\n\u001b[0m\u001b[1;32m    334\u001b[0m         \u001b[0maux\u001b[0m \u001b[0;34m=\u001b[0m \u001b[0mar\u001b[0m\u001b[0;34m\u001b[0m\u001b[0;34m\u001b[0m\u001b[0m\n\u001b[1;32m    335\u001b[0m     \u001b[0mmask\u001b[0m \u001b[0;34m=\u001b[0m \u001b[0mnp\u001b[0m\u001b[0;34m.\u001b[0m\u001b[0mempty\u001b[0m\u001b[0;34m(\u001b[0m\u001b[0maux\u001b[0m\u001b[0;34m.\u001b[0m\u001b[0mshape\u001b[0m\u001b[0;34m,\u001b[0m \u001b[0mdtype\u001b[0m\u001b[0;34m=\u001b[0m\u001b[0mnp\u001b[0m\u001b[0;34m.\u001b[0m\u001b[0mbool_\u001b[0m\u001b[0;34m)\u001b[0m\u001b[0;34m\u001b[0m\u001b[0;34m\u001b[0m\u001b[0m\n",
            "\u001b[0;31mTypeError\u001b[0m: '<' not supported between instances of 'float' and 'str'"
          ]
        }
      ]
    }
  ],
  "metadata": {
    "kernelspec": {
      "display_name": "Python 3",
      "language": "python",
      "name": "python3"
    },
    "language_info": {
      "codemirror_mode": {
        "name": "ipython",
        "version": 3
      },
      "file_extension": ".py",
      "mimetype": "text/x-python",
      "name": "python",
      "nbconvert_exporter": "python",
      "pygments_lexer": "ipython3",
      "version": "3.7.0"
    },
    "colab": {
      "provenance": [],
      "include_colab_link": true
    }
  },
  "nbformat": 4,
  "nbformat_minor": 0
}